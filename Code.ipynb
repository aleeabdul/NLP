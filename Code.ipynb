{
 "cells": [
  {
   "cell_type": "code",
   "execution_count": 1,
   "id": "90570e27",
   "metadata": {},
   "outputs": [
    {
     "name": "stdout",
     "output_type": "stream",
     "text": [
      "Requirement already satisfied: nltk in c:\\users\\samsung\\anaconda3\\lib\\site-packages (3.6.2)\n",
      "Requirement already satisfied: regex in c:\\users\\samsung\\anaconda3\\lib\\site-packages (from nltk) (2021.4.4)\n",
      "Requirement already satisfied: click in c:\\users\\samsung\\anaconda3\\lib\\site-packages (from nltk) (7.1.2)\n",
      "Requirement already satisfied: joblib in c:\\users\\samsung\\anaconda3\\lib\\site-packages (from nltk) (1.0.1)\n",
      "Requirement already satisfied: tqdm in c:\\users\\samsung\\anaconda3\\lib\\site-packages (from nltk) (4.59.0)\n",
      "Requirement already satisfied: gensim in c:\\users\\samsung\\anaconda3\\lib\\site-packages (4.1.0)\n",
      "Requirement already satisfied: numpy>=1.17.0 in c:\\users\\samsung\\anaconda3\\lib\\site-packages (from gensim) (1.19.5)\n",
      "Requirement already satisfied: scipy>=0.18.1 in c:\\users\\samsung\\anaconda3\\lib\\site-packages (from gensim) (1.6.2)\n",
      "Requirement already satisfied: smart-open>=1.8.1 in c:\\users\\samsung\\anaconda3\\lib\\site-packages (from gensim) (5.2.1)\n",
      "Requirement already satisfied: Cython==0.29.23 in c:\\users\\samsung\\anaconda3\\lib\\site-packages (from gensim) (0.29.23)\n",
      "Requirement already satisfied: numpy in c:\\users\\samsung\\anaconda3\\lib\\site-packages (1.19.5)\n",
      "Requirement already satisfied: pandas in c:\\users\\samsung\\anaconda3\\lib\\site-packages (1.2.4)\n",
      "Requirement already satisfied: pytz>=2017.3 in c:\\users\\samsung\\anaconda3\\lib\\site-packages (from pandas) (2021.1)\n",
      "Requirement already satisfied: python-dateutil>=2.7.3 in c:\\users\\samsung\\anaconda3\\lib\\site-packages (from pandas) (2.8.1)\n",
      "Requirement already satisfied: numpy>=1.16.5 in c:\\users\\samsung\\anaconda3\\lib\\site-packages (from pandas) (1.19.5)\n",
      "Requirement already satisfied: six>=1.5 in c:\\users\\samsung\\anaconda3\\lib\\site-packages (from python-dateutil>=2.7.3->pandas) (1.15.0)\n",
      "Requirement already satisfied: sklearn in c:\\users\\samsung\\anaconda3\\lib\\site-packages (0.0)\n",
      "Requirement already satisfied: scikit-learn in c:\\users\\samsung\\anaconda3\\lib\\site-packages (from sklearn) (0.24.1)\n",
      "Requirement already satisfied: joblib>=0.11 in c:\\users\\samsung\\anaconda3\\lib\\site-packages (from scikit-learn->sklearn) (1.0.1)\n",
      "Requirement already satisfied: threadpoolctl>=2.0.0 in c:\\users\\samsung\\anaconda3\\lib\\site-packages (from scikit-learn->sklearn) (2.1.0)\n",
      "Requirement already satisfied: scipy>=0.19.1 in c:\\users\\samsung\\anaconda3\\lib\\site-packages (from scikit-learn->sklearn) (1.6.2)\n",
      "Requirement already satisfied: numpy>=1.13.3 in c:\\users\\samsung\\anaconda3\\lib\\site-packages (from scikit-learn->sklearn) (1.19.5)\n",
      "Requirement already satisfied: matplotlib in c:\\users\\samsung\\anaconda3\\lib\\site-packages (3.3.4)\n",
      "Requirement already satisfied: python-dateutil>=2.1 in c:\\users\\samsung\\anaconda3\\lib\\site-packages (from matplotlib) (2.8.1)\n",
      "Requirement already satisfied: numpy>=1.15 in c:\\users\\samsung\\anaconda3\\lib\\site-packages (from matplotlib) (1.19.5)\n",
      "Requirement already satisfied: pyparsing!=2.0.4,!=2.1.2,!=2.1.6,>=2.0.3 in c:\\users\\samsung\\anaconda3\\lib\\site-packages (from matplotlib) (2.4.7)\n",
      "Requirement already satisfied: kiwisolver>=1.0.1 in c:\\users\\samsung\\anaconda3\\lib\\site-packages (from matplotlib) (1.3.1)\n",
      "Requirement already satisfied: pillow>=6.2.0 in c:\\users\\samsung\\anaconda3\\lib\\site-packages (from matplotlib) (8.2.0)\n",
      "Requirement already satisfied: cycler>=0.10 in c:\\users\\samsung\\anaconda3\\lib\\site-packages (from matplotlib) (0.10.0)\n",
      "Requirement already satisfied: six in c:\\users\\samsung\\anaconda3\\lib\\site-packages (from cycler>=0.10->matplotlib) (1.15.0)\n",
      "Requirement already satisfied: tensorflow in c:\\users\\samsung\\anaconda3\\lib\\site-packages (2.6.0)\n",
      "Requirement already satisfied: keras-preprocessing~=1.1.2 in c:\\users\\samsung\\anaconda3\\lib\\site-packages (from tensorflow) (1.1.2)\n",
      "Requirement already satisfied: wrapt~=1.12.1 in c:\\users\\samsung\\anaconda3\\lib\\site-packages (from tensorflow) (1.12.1)\n",
      "Requirement already satisfied: google-pasta~=0.2 in c:\\users\\samsung\\anaconda3\\lib\\site-packages (from tensorflow) (0.2.0)\n",
      "Requirement already satisfied: tensorflow-estimator~=2.6 in c:\\users\\samsung\\anaconda3\\lib\\site-packages (from tensorflow) (2.6.0)\n",
      "Requirement already satisfied: tensorboard~=2.6 in c:\\users\\samsung\\anaconda3\\lib\\site-packages (from tensorflow) (2.6.0)\n",
      "Requirement already satisfied: clang~=5.0 in c:\\users\\samsung\\anaconda3\\lib\\site-packages (from tensorflow) (5.0)\n",
      "Requirement already satisfied: absl-py~=0.10 in c:\\users\\samsung\\anaconda3\\lib\\site-packages (from tensorflow) (0.13.0)\n",
      "Requirement already satisfied: flatbuffers~=1.12.0 in c:\\users\\samsung\\anaconda3\\lib\\site-packages (from tensorflow) (1.12)\n",
      "Requirement already satisfied: protobuf>=3.9.2 in c:\\users\\samsung\\anaconda3\\lib\\site-packages (from tensorflow) (3.17.3)\n",
      "Requirement already satisfied: grpcio<2.0,>=1.37.0 in c:\\users\\samsung\\anaconda3\\lib\\site-packages (from tensorflow) (1.39.0)\n",
      "Requirement already satisfied: keras~=2.6 in c:\\users\\samsung\\anaconda3\\lib\\site-packages (from tensorflow) (2.6.0)\n",
      "Requirement already satisfied: wheel~=0.35 in c:\\users\\samsung\\anaconda3\\lib\\site-packages (from tensorflow) (0.36.2)\n",
      "Requirement already satisfied: typing-extensions~=3.7.4 in c:\\users\\samsung\\anaconda3\\lib\\site-packages (from tensorflow) (3.7.4.3)\n",
      "Requirement already satisfied: astunparse~=1.6.3 in c:\\users\\samsung\\anaconda3\\lib\\site-packages (from tensorflow) (1.6.3)\n",
      "Requirement already satisfied: numpy~=1.19.2 in c:\\users\\samsung\\anaconda3\\lib\\site-packages (from tensorflow) (1.19.5)\n",
      "Requirement already satisfied: gast==0.4.0 in c:\\users\\samsung\\anaconda3\\lib\\site-packages (from tensorflow) (0.4.0)\n",
      "Requirement already satisfied: six~=1.15.0 in c:\\users\\samsung\\anaconda3\\lib\\site-packages (from tensorflow) (1.15.0)\n",
      "Requirement already satisfied: termcolor~=1.1.0 in c:\\users\\samsung\\anaconda3\\lib\\site-packages (from tensorflow) (1.1.0)\n",
      "Requirement already satisfied: h5py~=3.1.0 in c:\\users\\samsung\\anaconda3\\lib\\site-packages (from tensorflow) (3.1.0)\n",
      "Requirement already satisfied: opt-einsum~=3.3.0 in c:\\users\\samsung\\anaconda3\\lib\\site-packages (from tensorflow) (3.3.0)\n",
      "Requirement already satisfied: google-auth<2,>=1.6.3 in c:\\users\\samsung\\anaconda3\\lib\\site-packages (from tensorboard~=2.6->tensorflow) (1.35.0)\n",
      "Requirement already satisfied: google-auth-oauthlib<0.5,>=0.4.1 in c:\\users\\samsung\\anaconda3\\lib\\site-packages (from tensorboard~=2.6->tensorflow) (0.4.6)\n",
      "Requirement already satisfied: tensorboard-plugin-wit>=1.6.0 in c:\\users\\samsung\\anaconda3\\lib\\site-packages (from tensorboard~=2.6->tensorflow) (1.8.0)\n",
      "Requirement already satisfied: requests<3,>=2.21.0 in c:\\users\\samsung\\anaconda3\\lib\\site-packages (from tensorboard~=2.6->tensorflow) (2.25.1)\n",
      "Requirement already satisfied: tensorboard-data-server<0.7.0,>=0.6.0 in c:\\users\\samsung\\anaconda3\\lib\\site-packages (from tensorboard~=2.6->tensorflow) (0.6.1)\n",
      "Requirement already satisfied: setuptools>=41.0.0 in c:\\users\\samsung\\anaconda3\\lib\\site-packages (from tensorboard~=2.6->tensorflow) (52.0.0.post20210125)\n",
      "Requirement already satisfied: markdown>=2.6.8 in c:\\users\\samsung\\anaconda3\\lib\\site-packages (from tensorboard~=2.6->tensorflow) (3.3.4)\n",
      "Requirement already satisfied: werkzeug>=0.11.15 in c:\\users\\samsung\\anaconda3\\lib\\site-packages (from tensorboard~=2.6->tensorflow) (1.0.1)\n",
      "Requirement already satisfied: cachetools<5.0,>=2.0.0 in c:\\users\\samsung\\anaconda3\\lib\\site-packages (from google-auth<2,>=1.6.3->tensorboard~=2.6->tensorflow) (4.2.2)\n",
      "Requirement already satisfied: rsa<5,>=3.1.4 in c:\\users\\samsung\\anaconda3\\lib\\site-packages (from google-auth<2,>=1.6.3->tensorboard~=2.6->tensorflow) (4.7.2)\n",
      "Requirement already satisfied: pyasn1-modules>=0.2.1 in c:\\users\\samsung\\anaconda3\\lib\\site-packages (from google-auth<2,>=1.6.3->tensorboard~=2.6->tensorflow) (0.2.8)\n",
      "Requirement already satisfied: requests-oauthlib>=0.7.0 in c:\\users\\samsung\\anaconda3\\lib\\site-packages (from google-auth-oauthlib<0.5,>=0.4.1->tensorboard~=2.6->tensorflow) (1.3.0)\n",
      "Requirement already satisfied: pyasn1<0.5.0,>=0.4.6 in c:\\users\\samsung\\anaconda3\\lib\\site-packages (from pyasn1-modules>=0.2.1->google-auth<2,>=1.6.3->tensorboard~=2.6->tensorflow) (0.4.8)\n",
      "Requirement already satisfied: urllib3<1.27,>=1.21.1 in c:\\users\\samsung\\anaconda3\\lib\\site-packages (from requests<3,>=2.21.0->tensorboard~=2.6->tensorflow) (1.26.4)\n",
      "Requirement already satisfied: idna<3,>=2.5 in c:\\users\\samsung\\anaconda3\\lib\\site-packages (from requests<3,>=2.21.0->tensorboard~=2.6->tensorflow) (2.10)\n",
      "Requirement already satisfied: certifi>=2017.4.17 in c:\\users\\samsung\\anaconda3\\lib\\site-packages (from requests<3,>=2.21.0->tensorboard~=2.6->tensorflow) (2020.12.5)\n",
      "Requirement already satisfied: chardet<5,>=3.0.2 in c:\\users\\samsung\\anaconda3\\lib\\site-packages (from requests<3,>=2.21.0->tensorboard~=2.6->tensorflow) (4.0.0)\n",
      "Requirement already satisfied: oauthlib>=3.0.0 in c:\\users\\samsung\\anaconda3\\lib\\site-packages (from requests-oauthlib>=0.7.0->google-auth-oauthlib<0.5,>=0.4.1->tensorboard~=2.6->tensorflow) (3.1.1)\n"
     ]
    },
    {
     "name": "stdout",
     "output_type": "stream",
     "text": [
      "Requirement already satisfied: keras in c:\\users\\samsung\\anaconda3\\lib\\site-packages (2.6.0)\n",
      "Requirement already satisfied: nrclex in c:\\users\\samsung\\anaconda3\\lib\\site-packages (3.0.0)\n",
      "Requirement already satisfied: textblob in c:\\users\\samsung\\anaconda3\\lib\\site-packages (from nrclex) (0.15.3)\n",
      "Requirement already satisfied: nltk>=3.1 in c:\\users\\samsung\\anaconda3\\lib\\site-packages (from textblob->nrclex) (3.6.2)\n",
      "Requirement already satisfied: regex in c:\\users\\samsung\\anaconda3\\lib\\site-packages (from nltk>=3.1->textblob->nrclex) (2021.4.4)\n",
      "Requirement already satisfied: tqdm in c:\\users\\samsung\\anaconda3\\lib\\site-packages (from nltk>=3.1->textblob->nrclex) (4.59.0)\n",
      "Requirement already satisfied: click in c:\\users\\samsung\\anaconda3\\lib\\site-packages (from nltk>=3.1->textblob->nrclex) (7.1.2)\n",
      "Requirement already satisfied: joblib in c:\\users\\samsung\\anaconda3\\lib\\site-packages (from nltk>=3.1->textblob->nrclex) (1.0.1)\n",
      "Requirement already satisfied: tweepy in c:\\users\\samsung\\anaconda3\\lib\\site-packages (3.10.0)\n",
      "Requirement already satisfied: six>=1.10.0 in c:\\users\\samsung\\anaconda3\\lib\\site-packages (from tweepy) (1.15.0)\n",
      "Requirement already satisfied: requests-oauthlib>=0.7.0 in c:\\users\\samsung\\anaconda3\\lib\\site-packages (from tweepy) (1.3.0)\n",
      "Requirement already satisfied: requests[socks]>=2.11.1 in c:\\users\\samsung\\anaconda3\\lib\\site-packages (from tweepy) (2.25.1)\n",
      "Requirement already satisfied: oauthlib>=3.0.0 in c:\\users\\samsung\\anaconda3\\lib\\site-packages (from requests-oauthlib>=0.7.0->tweepy) (3.1.1)\n",
      "Requirement already satisfied: certifi>=2017.4.17 in c:\\users\\samsung\\anaconda3\\lib\\site-packages (from requests[socks]>=2.11.1->tweepy) (2020.12.5)\n",
      "Requirement already satisfied: chardet<5,>=3.0.2 in c:\\users\\samsung\\anaconda3\\lib\\site-packages (from requests[socks]>=2.11.1->tweepy) (4.0.0)\n",
      "Requirement already satisfied: urllib3<1.27,>=1.21.1 in c:\\users\\samsung\\anaconda3\\lib\\site-packages (from requests[socks]>=2.11.1->tweepy) (1.26.4)\n",
      "Requirement already satisfied: idna<3,>=2.5 in c:\\users\\samsung\\anaconda3\\lib\\site-packages (from requests[socks]>=2.11.1->tweepy) (2.10)\n",
      "Requirement already satisfied: PySocks!=1.5.7,>=1.5.6 in c:\\users\\samsung\\anaconda3\\lib\\site-packages (from requests[socks]>=2.11.1->tweepy) (1.7.1)\n",
      "Requirement already satisfied: preprocessor in c:\\users\\samsung\\anaconda3\\lib\\site-packages (1.1.3)\n"
     ]
    }
   ],
   "source": [
    "!pip install nltk\n",
    "!pip install gensim\n",
    "!pip install numpy\n",
    "!pip install pandas\n",
    "!pip install sklearn\n",
    "!pip install matplotlib\n",
    "!pip install tensorflow\n",
    "!pip install keras\n",
    "!pip install nrclex\n",
    "!pip install tweepy\n",
    "!pip install preprocessor"
   ]
  },
  {
   "cell_type": "markdown",
   "id": "504b2f0e",
   "metadata": {},
   "source": [
    "# Lemmatization and Stopword Removal Function"
   ]
  },
  {
   "cell_type": "code",
   "execution_count": 2,
   "id": "47dce5c7",
   "metadata": {},
   "outputs": [
    {
     "name": "stdout",
     "output_type": "stream",
     "text": [
      "Stop words list:  ['i', 'me', 'my', 'myself', 'we', 'our', 'ours', 'ourselves', 'you', \"you're\", \"you've\", \"you'll\", \"you'd\", 'your', 'yours', 'yourself', 'yourselves', 'he', 'him', 'his', 'himself', 'she', \"she's\", 'her', 'hers', 'herself', 'it', \"it's\", 'its', 'itself', 'they', 'them', 'their', 'theirs', 'themselves', 'what', 'which', 'who', 'whom', 'this', 'that', \"that'll\", 'these', 'those', 'am', 'is', 'are', 'was', 'were', 'be', 'been', 'being', 'have', 'has', 'had', 'having', 'do', 'does', 'did', 'doing', 'a', 'an', 'the', 'and', 'but', 'if', 'or', 'because', 'as', 'until', 'while', 'of', 'at', 'by', 'for', 'with', 'about', 'against', 'between', 'into', 'through', 'during', 'before', 'after', 'above', 'below', 'to', 'from', 'up', 'down', 'in', 'out', 'on', 'off', 'over', 'under', 'again', 'further', 'then', 'once', 'here', 'there', 'when', 'where', 'why', 'how', 'all', 'any', 'both', 'each', 'few', 'more', 'most', 'other', 'some', 'such', 'no', 'nor', 'not', 'only', 'own', 'same', 'so', 'than', 'too', 'very', 's', 't', 'can', 'will', 'just', 'don', \"don't\", 'should', \"should've\", 'now', 'd', 'll', 'm', 'o', 're', 've', 'y', 'ain', 'aren', \"aren't\", 'couldn', \"couldn't\", 'didn', \"didn't\", 'doesn', \"doesn't\", 'hadn', \"hadn't\", 'hasn', \"hasn't\", 'haven', \"haven't\", 'isn', \"isn't\", 'ma', 'mightn', \"mightn't\", 'mustn', \"mustn't\", 'needn', \"needn't\", 'shan', \"shan't\", 'shouldn', \"shouldn't\", 'wasn', \"wasn't\", 'weren', \"weren't\", 'won', \"won't\", 'wouldn', \"wouldn't\"]\n"
     ]
    },
    {
     "name": "stderr",
     "output_type": "stream",
     "text": [
      "[nltk_data] Downloading package stopwords to\n",
      "[nltk_data]     C:\\Users\\SAMSUNG\\AppData\\Roaming\\nltk_data...\n",
      "[nltk_data]   Package stopwords is already up-to-date!\n"
     ]
    }
   ],
   "source": [
    "from nltk.corpus import stopwords\n",
    "import nltk\n",
    "from nltk import word_tokenize,WordNetLemmatizer\n",
    "nltk.download('stopwords')\n",
    "stoplist = stopwords.words('english')\n",
    "print(\"Stop words list: \",stoplist)\n",
    "\n",
    "#Lemmatization Function\n",
    "def lem_message(text):\n",
    "    temp=[]\n",
    "    text = text.split()\n",
    "    wl=WordNetLemmatizer()\n",
    "    for i in text:\n",
    "        temp.append(wl.lemmatize(i,pos='v'))\n",
    "    return \" \".join(temp)\n",
    "\n",
    "#StopWord Removal Function\n",
    "def remove_stopwords(text,stoplist):\n",
    "    temp=[]\n",
    "#     print(text)\n",
    "#     print (len(text))\n",
    "    text = text.split()\n",
    "    for i in range (len(text)):\n",
    "        if text[i] not in stoplist:\n",
    "            temp.append(text[i])\n",
    "    return \" \".join(temp)"
   ]
  },
  {
   "cell_type": "markdown",
   "id": "96b38040",
   "metadata": {},
   "source": [
    "# Data Reading"
   ]
  },
  {
   "cell_type": "code",
   "execution_count": 3,
   "id": "c774568a",
   "metadata": {},
   "outputs": [],
   "source": [
    "import gensim\n",
    "import numpy as np\n",
    "import pandas as pd\n",
    "import nltk\n",
    "import collections\n",
    "import re\n",
    "import string\n",
    "from collections import Counter\n",
    "from nltk import word_tokenize,WordNetLemmatizer\n",
    "from sklearn.feature_extraction.text import TfidfTransformer\n",
    "from sklearn.feature_extraction.text import CountVectorizer\n",
    "count_vect = CountVectorizer()\n",
    "import itertools\n",
    "import os\n",
    "\n",
    "%matplotlib inline\n",
    "import matplotlib.pyplot as plt\n",
    "import numpy as np\n",
    "import pandas as pd\n",
    "import tensorflow as tf\n",
    "\n",
    "from sklearn.preprocessing import LabelBinarizer, LabelEncoder\n",
    "from sklearn.metrics import confusion_matrix\n",
    "\n",
    "import keras\n",
    "from keras.models import Sequential\n",
    "from keras.layers import Dense, Activation, Dropout\n",
    "from keras.preprocessing import text, sequence\n"
   ]
  },
  {
   "cell_type": "code",
   "execution_count": 4,
   "id": "6b770145",
   "metadata": {},
   "outputs": [],
   "source": [
    "#Importing 1st Dataset- Sexually Explicit\n",
    "data1 = pd.read_csv('./data/sexually_explicit.csv', error_bad_lines=False,names= [\"tweet\"])"
   ]
  },
  {
   "cell_type": "code",
   "execution_count": 5,
   "id": "7323d143",
   "metadata": {},
   "outputs": [
    {
     "data": {
      "text/plain": [
       "(11003, 1)"
      ]
     },
     "execution_count": 5,
     "metadata": {},
     "output_type": "execute_result"
    }
   ],
   "source": [
    "data1.shape"
   ]
  },
  {
   "cell_type": "code",
   "execution_count": 6,
   "id": "5bab32f0",
   "metadata": {},
   "outputs": [],
   "source": [
    "#Putting labels as 1 to this dataset as these were all harassment tweets\n",
    "data1[\"label\"] = np.ones((data1.shape[0]))"
   ]
  },
  {
   "cell_type": "code",
   "execution_count": 7,
   "id": "5e8d0b4a",
   "metadata": {},
   "outputs": [
    {
     "data": {
      "text/html": [
       "<div>\n",
       "<style scoped>\n",
       "    .dataframe tbody tr th:only-of-type {\n",
       "        vertical-align: middle;\n",
       "    }\n",
       "\n",
       "    .dataframe tbody tr th {\n",
       "        vertical-align: top;\n",
       "    }\n",
       "\n",
       "    .dataframe thead th {\n",
       "        text-align: right;\n",
       "    }\n",
       "</style>\n",
       "<table border=\"1\" class=\"dataframe\">\n",
       "  <thead>\n",
       "    <tr style=\"text-align: right;\">\n",
       "      <th></th>\n",
       "      <th>tweet</th>\n",
       "      <th>label</th>\n",
       "    </tr>\n",
       "  </thead>\n",
       "  <tbody>\n",
       "    <tr>\n",
       "      <th>0</th>\n",
       "      <td>I would never have guessed you had tits that b...</td>\n",
       "      <td>1.0</td>\n",
       "    </tr>\n",
       "    <tr>\n",
       "      <th>1</th>\n",
       "      <td>I’ll be you one day... med student here! Gorge...</td>\n",
       "      <td>1.0</td>\n",
       "    </tr>\n",
       "    <tr>\n",
       "      <th>2</th>\n",
       "      <td>Those nipples are amazing!</td>\n",
       "      <td>1.0</td>\n",
       "    </tr>\n",
       "    <tr>\n",
       "      <th>3</th>\n",
       "      <td>r/hardboltons</td>\n",
       "      <td>1.0</td>\n",
       "    </tr>\n",
       "    <tr>\n",
       "      <th>4</th>\n",
       "      <td>Doctors that buy their tits always show them off.</td>\n",
       "      <td>1.0</td>\n",
       "    </tr>\n",
       "    <tr>\n",
       "      <th>...</th>\n",
       "      <td>...</td>\n",
       "      <td>...</td>\n",
       "    </tr>\n",
       "    <tr>\n",
       "      <th>10998</th>\n",
       "      <td>I’d love to tongue your pussy till you cum all...</td>\n",
       "      <td>1.0</td>\n",
       "    </tr>\n",
       "    <tr>\n",
       "      <th>10999</th>\n",
       "      <td>Sexy kitty. I’d love to pet ;)</td>\n",
       "      <td>1.0</td>\n",
       "    </tr>\n",
       "    <tr>\n",
       "      <th>11000</th>\n",
       "      <td>Looks so tight! What's the biggest cock you've...</td>\n",
       "      <td>1.0</td>\n",
       "    </tr>\n",
       "    <tr>\n",
       "      <th>11001</th>\n",
       "      <td>Looks delicious....🤤🤤</td>\n",
       "      <td>1.0</td>\n",
       "    </tr>\n",
       "    <tr>\n",
       "      <th>11002</th>\n",
       "      <td>Meow</td>\n",
       "      <td>1.0</td>\n",
       "    </tr>\n",
       "  </tbody>\n",
       "</table>\n",
       "<p>11003 rows × 2 columns</p>\n",
       "</div>"
      ],
      "text/plain": [
       "                                                   tweet  label\n",
       "0      I would never have guessed you had tits that b...    1.0\n",
       "1      I’ll be you one day... med student here! Gorge...    1.0\n",
       "2                             Those nipples are amazing!    1.0\n",
       "3                                          r/hardboltons    1.0\n",
       "4      Doctors that buy their tits always show them off.    1.0\n",
       "...                                                  ...    ...\n",
       "10998  I’d love to tongue your pussy till you cum all...    1.0\n",
       "10999                     Sexy kitty. I’d love to pet ;)    1.0\n",
       "11000  Looks so tight! What's the biggest cock you've...    1.0\n",
       "11001                              Looks delicious....🤤🤤    1.0\n",
       "11002                                               Meow    1.0\n",
       "\n",
       "[11003 rows x 2 columns]"
      ]
     },
     "execution_count": 7,
     "metadata": {},
     "output_type": "execute_result"
    }
   ],
   "source": [
    "data1"
   ]
  },
  {
   "cell_type": "code",
   "execution_count": 8,
   "id": "9de71b00",
   "metadata": {},
   "outputs": [],
   "source": [
    "#Importing 2nd Dataset- Hate Speech\n",
    "data2 = pd.read_csv(\"./data/train_E6oV3lV.csv\")\n",
    "data2 = data2[[\"tweet\",\"label\"]]"
   ]
  },
  {
   "cell_type": "code",
   "execution_count": 9,
   "id": "12a18c1b",
   "metadata": {},
   "outputs": [
    {
     "data": {
      "text/plain": [
       "(31962, 2)"
      ]
     },
     "execution_count": 9,
     "metadata": {},
     "output_type": "execute_result"
    }
   ],
   "source": [
    "data2.shape"
   ]
  },
  {
   "cell_type": "code",
   "execution_count": 10,
   "id": "be7dcaea",
   "metadata": {},
   "outputs": [
    {
     "data": {
      "text/html": [
       "<div>\n",
       "<style scoped>\n",
       "    .dataframe tbody tr th:only-of-type {\n",
       "        vertical-align: middle;\n",
       "    }\n",
       "\n",
       "    .dataframe tbody tr th {\n",
       "        vertical-align: top;\n",
       "    }\n",
       "\n",
       "    .dataframe thead th {\n",
       "        text-align: right;\n",
       "    }\n",
       "</style>\n",
       "<table border=\"1\" class=\"dataframe\">\n",
       "  <thead>\n",
       "    <tr style=\"text-align: right;\">\n",
       "      <th></th>\n",
       "      <th>tweet</th>\n",
       "    </tr>\n",
       "  </thead>\n",
       "  <tbody>\n",
       "    <tr>\n",
       "      <th>0</th>\n",
       "      <td>b'Watching amateur porn is fun cause my kink i...</td>\n",
       "    </tr>\n",
       "    <tr>\n",
       "      <th>1</th>\n",
       "      <td>b\"@SirChompyFace Thanks! I'm still am amateur ...</td>\n",
       "    </tr>\n",
       "    <tr>\n",
       "      <th>2</th>\n",
       "      <td>b'@DenizSaaat @BustaRhymes @WhyBitcoinJ My opi...</td>\n",
       "    </tr>\n",
       "    <tr>\n",
       "      <th>3</th>\n",
       "      <td>b\"I believe you believe that amateur radio is ...</td>\n",
       "    </tr>\n",
       "    <tr>\n",
       "      <th>4</th>\n",
       "      <td>b\"@delaroess always possible to go 'amateur' h...</td>\n",
       "    </tr>\n",
       "    <tr>\n",
       "      <th>...</th>\n",
       "      <td>...</td>\n",
       "    </tr>\n",
       "    <tr>\n",
       "      <th>18381</th>\n",
       "      <td>b'I think the PM should have been the one to a...</td>\n",
       "    </tr>\n",
       "    <tr>\n",
       "      <th>18382</th>\n",
       "      <td>b'@StanSmithReal stanley the blacksmith is a r...</td>\n",
       "    </tr>\n",
       "    <tr>\n",
       "      <th>18383</th>\n",
       "      <td>b'Cuando a Jhope golden el best raper y vocal ...</td>\n",
       "    </tr>\n",
       "    <tr>\n",
       "      <th>18384</th>\n",
       "      <td>b'#jennieperfect #Jenniebeautiful #Jennieitgir...</td>\n",
       "    </tr>\n",
       "    <tr>\n",
       "      <th>18385</th>\n",
       "      <td>b'@vintagecrewneck NUFAL RAPER GOAT'</td>\n",
       "    </tr>\n",
       "  </tbody>\n",
       "</table>\n",
       "<p>18386 rows × 1 columns</p>\n",
       "</div>"
      ],
      "text/plain": [
       "                                                   tweet\n",
       "0      b'Watching amateur porn is fun cause my kink i...\n",
       "1      b\"@SirChompyFace Thanks! I'm still am amateur ...\n",
       "2      b'@DenizSaaat @BustaRhymes @WhyBitcoinJ My opi...\n",
       "3      b\"I believe you believe that amateur radio is ...\n",
       "4      b\"@delaroess always possible to go 'amateur' h...\n",
       "...                                                  ...\n",
       "18381  b'I think the PM should have been the one to a...\n",
       "18382  b'@StanSmithReal stanley the blacksmith is a r...\n",
       "18383  b'Cuando a Jhope golden el best raper y vocal ...\n",
       "18384  b'#jennieperfect #Jenniebeautiful #Jennieitgir...\n",
       "18385               b'@vintagecrewneck NUFAL RAPER GOAT'\n",
       "\n",
       "[18386 rows x 1 columns]"
      ]
     },
     "execution_count": 10,
     "metadata": {},
     "output_type": "execute_result"
    }
   ],
   "source": [
    "#Importing 3rd Dataset - Twitter Scrapping\n",
    "data3= pd.read_csv(\"./Twitter Data 1.xls\",names = [\"tweet\"])\n",
    "data3"
   ]
  },
  {
   "cell_type": "code",
   "execution_count": 11,
   "id": "23da6e53",
   "metadata": {},
   "outputs": [
    {
     "data": {
      "text/html": [
       "<div>\n",
       "<style scoped>\n",
       "    .dataframe tbody tr th:only-of-type {\n",
       "        vertical-align: middle;\n",
       "    }\n",
       "\n",
       "    .dataframe tbody tr th {\n",
       "        vertical-align: top;\n",
       "    }\n",
       "\n",
       "    .dataframe thead th {\n",
       "        text-align: right;\n",
       "    }\n",
       "</style>\n",
       "<table border=\"1\" class=\"dataframe\">\n",
       "  <thead>\n",
       "    <tr style=\"text-align: right;\">\n",
       "      <th></th>\n",
       "      <th>tweet</th>\n",
       "    </tr>\n",
       "  </thead>\n",
       "  <tbody>\n",
       "    <tr>\n",
       "      <th>0</th>\n",
       "      <td>b'@daudikabanda  is an amateur in politics who...</td>\n",
       "    </tr>\n",
       "    <tr>\n",
       "      <th>1</th>\n",
       "      <td>b\"@Andysallotment You're welcome.  I am an ama...</td>\n",
       "    </tr>\n",
       "    <tr>\n",
       "      <th>2</th>\n",
       "      <td>b'Steveson is doing the right thing. Amateur w...</td>\n",
       "    </tr>\n",
       "    <tr>\n",
       "      <th>3</th>\n",
       "      <td>b\"@H_M_Parker @YorkshireLady3 It's just a big ...</td>\n",
       "    </tr>\n",
       "    <tr>\n",
       "      <th>4</th>\n",
       "      <td>b'Cum for me!, for sexy dating, contact me at ...</td>\n",
       "    </tr>\n",
       "    <tr>\n",
       "      <th>...</th>\n",
       "      <td>...</td>\n",
       "    </tr>\n",
       "    <tr>\n",
       "      <th>36729</th>\n",
       "      <td>b'Republican state governors need to be federa...</td>\n",
       "    </tr>\n",
       "    <tr>\n",
       "      <th>36730</th>\n",
       "      <td>b'@TheOtherTrigger @KaeGrayDance @FoxNews Let\\...</td>\n",
       "    </tr>\n",
       "    <tr>\n",
       "      <th>36731</th>\n",
       "      <td>b'@ggreenwald His handle is square and his pfp...</td>\n",
       "    </tr>\n",
       "    <tr>\n",
       "      <th>36732</th>\n",
       "      <td>b\"@WWE @LoganPaul @TheRealMorrison Poor Morris...</td>\n",
       "    </tr>\n",
       "    <tr>\n",
       "      <th>36733</th>\n",
       "      <td>b\"Getting vaccinated won't produce an ass on y...</td>\n",
       "    </tr>\n",
       "  </tbody>\n",
       "</table>\n",
       "<p>36734 rows × 1 columns</p>\n",
       "</div>"
      ],
      "text/plain": [
       "                                                   tweet\n",
       "0      b'@daudikabanda  is an amateur in politics who...\n",
       "1      b\"@Andysallotment You're welcome.  I am an ama...\n",
       "2      b'Steveson is doing the right thing. Amateur w...\n",
       "3      b\"@H_M_Parker @YorkshireLady3 It's just a big ...\n",
       "4      b'Cum for me!, for sexy dating, contact me at ...\n",
       "...                                                  ...\n",
       "36729  b'Republican state governors need to be federa...\n",
       "36730  b'@TheOtherTrigger @KaeGrayDance @FoxNews Let\\...\n",
       "36731  b'@ggreenwald His handle is square and his pfp...\n",
       "36732  b\"@WWE @LoganPaul @TheRealMorrison Poor Morris...\n",
       "36733  b\"Getting vaccinated won't produce an ass on y...\n",
       "\n",
       "[36734 rows x 1 columns]"
      ]
     },
     "execution_count": 11,
     "metadata": {},
     "output_type": "execute_result"
    }
   ],
   "source": [
    "#Importing 4th Dataset - Twitter Scrapping\n",
    "data4 = pd.read_csv(\"./Twitter data 2.xls\",names = [\"tweet\"])\n",
    "data4"
   ]
  },
  {
   "cell_type": "code",
   "execution_count": 12,
   "id": "114b7429",
   "metadata": {},
   "outputs": [
    {
     "data": {
      "text/html": [
       "<div>\n",
       "<style scoped>\n",
       "    .dataframe tbody tr th:only-of-type {\n",
       "        vertical-align: middle;\n",
       "    }\n",
       "\n",
       "    .dataframe tbody tr th {\n",
       "        vertical-align: top;\n",
       "    }\n",
       "\n",
       "    .dataframe thead th {\n",
       "        text-align: right;\n",
       "    }\n",
       "</style>\n",
       "<table border=\"1\" class=\"dataframe\">\n",
       "  <thead>\n",
       "    <tr style=\"text-align: right;\">\n",
       "      <th></th>\n",
       "      <th>tweet</th>\n",
       "      <th>label</th>\n",
       "    </tr>\n",
       "  </thead>\n",
       "  <tbody>\n",
       "    <tr>\n",
       "      <th>0</th>\n",
       "      <td>b'Watching amateur porn is fun cause my kink i...</td>\n",
       "      <td>1.0</td>\n",
       "    </tr>\n",
       "    <tr>\n",
       "      <th>1</th>\n",
       "      <td>b\"@SirChompyFace Thanks! I'm still am amateur ...</td>\n",
       "      <td>1.0</td>\n",
       "    </tr>\n",
       "    <tr>\n",
       "      <th>2</th>\n",
       "      <td>b'@DenizSaaat @BustaRhymes @WhyBitcoinJ My opi...</td>\n",
       "      <td>1.0</td>\n",
       "    </tr>\n",
       "    <tr>\n",
       "      <th>3</th>\n",
       "      <td>b\"I believe you believe that amateur radio is ...</td>\n",
       "      <td>1.0</td>\n",
       "    </tr>\n",
       "    <tr>\n",
       "      <th>4</th>\n",
       "      <td>b\"@delaroess always possible to go 'amateur' h...</td>\n",
       "      <td>1.0</td>\n",
       "    </tr>\n",
       "    <tr>\n",
       "      <th>...</th>\n",
       "      <td>...</td>\n",
       "      <td>...</td>\n",
       "    </tr>\n",
       "    <tr>\n",
       "      <th>36729</th>\n",
       "      <td>b'Republican state governors need to be federa...</td>\n",
       "      <td>1.0</td>\n",
       "    </tr>\n",
       "    <tr>\n",
       "      <th>36730</th>\n",
       "      <td>b'@TheOtherTrigger @KaeGrayDance @FoxNews Let\\...</td>\n",
       "      <td>1.0</td>\n",
       "    </tr>\n",
       "    <tr>\n",
       "      <th>36731</th>\n",
       "      <td>b'@ggreenwald His handle is square and his pfp...</td>\n",
       "      <td>1.0</td>\n",
       "    </tr>\n",
       "    <tr>\n",
       "      <th>36732</th>\n",
       "      <td>b\"@WWE @LoganPaul @TheRealMorrison Poor Morris...</td>\n",
       "      <td>1.0</td>\n",
       "    </tr>\n",
       "    <tr>\n",
       "      <th>36733</th>\n",
       "      <td>b\"Getting vaccinated won't produce an ass on y...</td>\n",
       "      <td>1.0</td>\n",
       "    </tr>\n",
       "  </tbody>\n",
       "</table>\n",
       "<p>48548 rows × 2 columns</p>\n",
       "</div>"
      ],
      "text/plain": [
       "                                                   tweet  label\n",
       "0      b'Watching amateur porn is fun cause my kink i...    1.0\n",
       "1      b\"@SirChompyFace Thanks! I'm still am amateur ...    1.0\n",
       "2      b'@DenizSaaat @BustaRhymes @WhyBitcoinJ My opi...    1.0\n",
       "3      b\"I believe you believe that amateur radio is ...    1.0\n",
       "4      b\"@delaroess always possible to go 'amateur' h...    1.0\n",
       "...                                                  ...    ...\n",
       "36729  b'Republican state governors need to be federa...    1.0\n",
       "36730  b'@TheOtherTrigger @KaeGrayDance @FoxNews Let\\...    1.0\n",
       "36731  b'@ggreenwald His handle is square and his pfp...    1.0\n",
       "36732  b\"@WWE @LoganPaul @TheRealMorrison Poor Morris...    1.0\n",
       "36733  b\"Getting vaccinated won't produce an ass on y...    1.0\n",
       "\n",
       "[48548 rows x 2 columns]"
      ]
     },
     "execution_count": 12,
     "metadata": {},
     "output_type": "execute_result"
    }
   ],
   "source": [
    "#Merging all the datasets into one\n",
    "data5 = pd.concat([data3,data4])\n",
    "data5.drop_duplicates(inplace=True)\n",
    "data5[\"label\"] = np.ones((data5.shape[0]))\n",
    "data5"
   ]
  },
  {
   "cell_type": "code",
   "execution_count": 13,
   "id": "6117cec7",
   "metadata": {},
   "outputs": [],
   "source": [
    "data2 = pd.concat([data2,data1])"
   ]
  },
  {
   "cell_type": "code",
   "execution_count": 14,
   "id": "9de77886",
   "metadata": {},
   "outputs": [
    {
     "data": {
      "text/plain": [
       "(42965, 2)"
      ]
     },
     "execution_count": 14,
     "metadata": {},
     "output_type": "execute_result"
    }
   ],
   "source": [
    "data2.shape"
   ]
  },
  {
   "cell_type": "code",
   "execution_count": 15,
   "id": "61fb8720",
   "metadata": {},
   "outputs": [
    {
     "data": {
      "text/plain": [
       "\"b'Watching amateur porn is fun cause my kink is hearing a fire alarm chirp every 90 seconds'\""
      ]
     },
     "execution_count": 15,
     "metadata": {},
     "output_type": "execute_result"
    }
   ],
   "source": [
    "data5[\"tweet\"].iloc[0]"
   ]
  },
  {
   "cell_type": "markdown",
   "id": "c6fd4e83",
   "metadata": {},
   "source": [
    "# Data Processing"
   ]
  },
  {
   "cell_type": "code",
   "execution_count": 16,
   "id": "a6c60caf",
   "metadata": {},
   "outputs": [
    {
     "data": {
      "text/plain": [
       "(array([0., 1.]), array([29720, 13245], dtype=int64))"
      ]
     },
     "execution_count": 16,
     "metadata": {},
     "output_type": "execute_result"
    }
   ],
   "source": [
    "# Checking the unique labels\n",
    "np.unique(data2.label,return_counts=True)"
   ]
  },
  {
   "cell_type": "code",
   "execution_count": 17,
   "id": "3446d5c0",
   "metadata": {},
   "outputs": [
    {
     "data": {
      "text/plain": [
       "'lasws23a'"
      ]
     },
     "execution_count": 17,
     "metadata": {},
     "output_type": "execute_result"
    }
   ],
   "source": [
    "#Removal of special characters\n",
    "import string\n",
    "punc = string.punctuation\n",
    "re.sub('['+punc+']' ,'',\"l.asws23a./,\")"
   ]
  },
  {
   "cell_type": "code",
   "execution_count": 18,
   "id": "9e2f170d",
   "metadata": {},
   "outputs": [
    {
     "name": "stderr",
     "output_type": "stream",
     "text": [
      "C:\\Users\\SAMSUNG\\anaconda3\\lib\\site-packages\\pandas\\core\\indexing.py:1637: SettingWithCopyWarning: \n",
      "A value is trying to be set on a copy of a slice from a DataFrame\n",
      "\n",
      "See the caveats in the documentation: https://pandas.pydata.org/pandas-docs/stable/user_guide/indexing.html#returning-a-view-versus-a-copy\n",
      "  self._setitem_single_block(indexer, value, name)\n"
     ]
    }
   ],
   "source": [
    "# Removal of  /n,stopwords,lowering,tokenizing\n",
    "df_com = data2\n",
    "for i in range (df_com.shape[0]):\n",
    "    df_com[\"tweet\"].iloc[i] = remove_stopwords(re.sub('['+punc+']' ,'',df_com[\"tweet\"].iloc[i]).lower(), stoplist)\n",
    "    df_com[\"tweet\"].iloc[i] = remove_stopwords(re.sub('\\n' ,'',df_com[\"tweet\"].iloc[i]),stoplist)"
   ]
  },
  {
   "cell_type": "code",
   "execution_count": 19,
   "id": "45473f98",
   "metadata": {},
   "outputs": [],
   "source": [
    "# Removal of  /n,stopwords,lowering,tokenizing\n",
    "df_com2 = data5\n",
    "\n",
    "for i in range (df_com2.shape[0]):\n",
    "    df_com2[\"tweet\"].iloc[i] = remove_stopwords(re.sub('['+punc+']' ,'',df_com2[\"tweet\"].iloc[i]).lower(), stoplist)"
   ]
  },
  {
   "cell_type": "code",
   "execution_count": 20,
   "id": "28e67577",
   "metadata": {},
   "outputs": [],
   "source": [
    "# Removing junk value in the start of every tweet while scrapping. \"b\" was extra\n",
    "for i in range (df_com2.shape[0]):\n",
    "    df_com2[\"tweet\"].iloc[i] = df_com2[\"tweet\"].iloc[i][1:]"
   ]
  },
  {
   "cell_type": "code",
   "execution_count": 21,
   "id": "169047f5",
   "metadata": {},
   "outputs": [],
   "source": [
    "df_com = pd.concat([df_com,df_com2])"
   ]
  },
  {
   "cell_type": "code",
   "execution_count": 22,
   "id": "073bd8dc",
   "metadata": {},
   "outputs": [
    {
     "data": {
      "text/plain": [
       "(91513, 2)"
      ]
     },
     "execution_count": 22,
     "metadata": {},
     "output_type": "execute_result"
    }
   ],
   "source": [
    "df_com.shape"
   ]
  },
  {
   "cell_type": "code",
   "execution_count": 23,
   "id": "6fcf308a",
   "metadata": {},
   "outputs": [],
   "source": [
    "x = df_com[\"tweet\"]"
   ]
  },
  {
   "cell_type": "code",
   "execution_count": 24,
   "id": "0295a7b3",
   "metadata": {},
   "outputs": [],
   "source": [
    "# Reading the data for processing Embeddings\n",
    "corpus = []\n",
    "sentences = []\n",
    "from gensim.models import Word2Vec\n",
    "\n",
    "for i in range (len(x)):\n",
    "    corpus.extend(str(x.iloc[i]).split())\n",
    "    sentences.append(str(x.iloc[i]).split())"
   ]
  },
  {
   "cell_type": "code",
   "execution_count": 25,
   "id": "f3ebd65c",
   "metadata": {},
   "outputs": [
    {
     "data": {
      "text/plain": [
       "['user',\n",
       " 'father',\n",
       " 'dysfunctional',\n",
       " 'selfish',\n",
       " 'drags',\n",
       " 'kids',\n",
       " 'dysfunction',\n",
       " 'run',\n",
       " 'user',\n",
       " 'user',\n",
       " 'thanks',\n",
       " 'lyft',\n",
       " 'credit',\n",
       " 'cant',\n",
       " 'use',\n",
       " 'cause',\n",
       " 'dont',\n",
       " 'offer',\n",
       " 'wheelchair',\n",
       " 'vans',\n",
       " 'pdx',\n",
       " 'disapointed',\n",
       " 'getthanked',\n",
       " 'bihday',\n",
       " 'majesty',\n",
       " 'model',\n",
       " 'love',\n",
       " 'u',\n",
       " 'take',\n",
       " 'u',\n",
       " 'time',\n",
       " 'urð\\x9f\\x93±',\n",
       " 'ð\\x9f\\x98\\x99ð\\x9f\\x98\\x8eð\\x9f\\x91\\x84ð\\x9f\\x91',\n",
       " 'ð\\x9f\\x92¦ð\\x9f\\x92¦ð\\x9f\\x92¦',\n",
       " 'factsguide',\n",
       " 'society',\n",
       " 'motivation',\n",
       " '22',\n",
       " 'huge',\n",
       " 'fan',\n",
       " 'fare',\n",
       " 'big',\n",
       " 'talking',\n",
       " 'leave',\n",
       " 'chaos',\n",
       " 'pay',\n",
       " 'disputes',\n",
       " 'get',\n",
       " 'allshowandnogo',\n",
       " 'user',\n",
       " 'camping',\n",
       " 'tomorrow',\n",
       " 'user',\n",
       " 'user',\n",
       " 'user',\n",
       " 'user',\n",
       " 'user',\n",
       " 'user',\n",
       " 'user',\n",
       " 'dannyâ\\x80¦',\n",
       " 'next',\n",
       " 'school',\n",
       " 'year',\n",
       " 'year',\n",
       " 'examsð\\x9f\\x98¯',\n",
       " 'cant',\n",
       " 'think',\n",
       " 'ð\\x9f\\x98\\xad',\n",
       " 'school',\n",
       " 'exams',\n",
       " 'hate',\n",
       " 'imagine',\n",
       " 'actorslife',\n",
       " 'revolutionschool',\n",
       " 'girl',\n",
       " 'love',\n",
       " 'land',\n",
       " 'allin',\n",
       " 'cavs',\n",
       " 'champions',\n",
       " 'cleveland',\n",
       " 'clevelandcavaliers',\n",
       " 'â\\x80¦',\n",
       " 'user',\n",
       " 'user',\n",
       " 'welcome',\n",
       " 'im',\n",
       " 'gr8',\n",
       " 'â\\x86\\x9d',\n",
       " 'ireland',\n",
       " 'consumer',\n",
       " 'price',\n",
       " 'index',\n",
       " 'mom',\n",
       " 'climbed',\n",
       " 'previous',\n",
       " '02',\n",
       " '05',\n",
       " 'may',\n",
       " 'blog',\n",
       " 'silver',\n",
       " 'gold',\n",
       " 'forex',\n",
       " 'selfish',\n",
       " 'orlando',\n",
       " 'standwithorlando',\n",
       " 'pulseshooting',\n",
       " 'orlandoshooting',\n",
       " 'biggerproblems',\n",
       " 'selfish',\n",
       " 'heabreaking',\n",
       " 'values',\n",
       " 'love',\n",
       " 'get',\n",
       " 'see',\n",
       " 'daddy',\n",
       " 'today',\n",
       " '80days',\n",
       " 'gettingfed',\n",
       " 'user',\n",
       " 'cnn',\n",
       " 'calls',\n",
       " 'michigan',\n",
       " 'middle',\n",
       " 'school',\n",
       " 'build',\n",
       " 'wall',\n",
       " 'chant',\n",
       " 'tcot',\n",
       " 'comment',\n",
       " 'australia',\n",
       " 'opkillingbay',\n",
       " 'seashepherd',\n",
       " 'helpcovedolphins',\n",
       " 'thecove',\n",
       " 'helpcovedolphins',\n",
       " 'ouchjunior',\n",
       " 'angryð\\x9f\\x98\\x90got7',\n",
       " 'junior',\n",
       " 'yugyoem',\n",
       " 'omg',\n",
       " 'thankful',\n",
       " 'paner',\n",
       " 'thankful',\n",
       " 'positive',\n",
       " 'retweet',\n",
       " 'agree',\n",
       " 'friday',\n",
       " 'ð\\x9f\\x98\\x80',\n",
       " 'smiles',\n",
       " 'around',\n",
       " 'via',\n",
       " 'ig',\n",
       " 'user',\n",
       " 'user',\n",
       " 'cookies',\n",
       " 'make',\n",
       " 'people',\n",
       " 'know',\n",
       " 'essential',\n",
       " 'oils',\n",
       " 'made',\n",
       " 'chemicals',\n",
       " 'euro2016',\n",
       " 'people',\n",
       " 'blaming',\n",
       " 'ha',\n",
       " 'conceded',\n",
       " 'goal',\n",
       " 'fat',\n",
       " 'rooney',\n",
       " 'gave',\n",
       " 'away',\n",
       " 'free',\n",
       " 'kick',\n",
       " 'knowing',\n",
       " 'bale',\n",
       " 'hit',\n",
       " 'sad',\n",
       " 'little',\n",
       " 'dude',\n",
       " 'badday',\n",
       " 'coneofshame',\n",
       " 'cats',\n",
       " 'pissed',\n",
       " 'funny',\n",
       " 'laughs',\n",
       " 'product',\n",
       " 'day',\n",
       " 'happy',\n",
       " 'man',\n",
       " 'wine',\n",
       " 'tool',\n",
       " 'whos',\n",
       " 'weekend',\n",
       " 'time',\n",
       " 'open',\n",
       " 'amp',\n",
       " 'drink',\n",
       " 'user',\n",
       " 'user',\n",
       " 'lumpy',\n",
       " 'says',\n",
       " 'prove',\n",
       " 'lumpy',\n",
       " 'user',\n",
       " 'tgif',\n",
       " 'ff',\n",
       " 'gamedev',\n",
       " 'indiedev',\n",
       " 'indiegamedev',\n",
       " 'squad',\n",
       " 'user',\n",
       " 'user',\n",
       " 'user',\n",
       " 'user',\n",
       " 'user',\n",
       " 'beautiful',\n",
       " 'sign',\n",
       " 'vendor',\n",
       " '80',\n",
       " '4500',\n",
       " 'upsideofflorida',\n",
       " 'shopalyssas',\n",
       " 'love',\n",
       " 'user',\n",
       " 'smiles',\n",
       " 'media',\n",
       " 'ð\\x9f\\x98\\x9cð\\x9f\\x98\\x88',\n",
       " 'pressconference',\n",
       " 'antalya',\n",
       " 'turkey',\n",
       " 'sunday',\n",
       " 'throwback',\n",
       " 'love',\n",
       " 'ð\\x9f\\x98\\x8að\\x9f\\x98\\x98â\\x9d¤ï¸\\x8f',\n",
       " 'great',\n",
       " 'panel',\n",
       " 'mediatization',\n",
       " 'public',\n",
       " 'service',\n",
       " 'ica16',\n",
       " 'happy',\n",
       " 'fathers',\n",
       " 'day',\n",
       " 'user',\n",
       " 'ð\\x9f\\x92\\x93ð\\x9f\\x92\\x93ð\\x9f\\x92\\x93ð\\x9f\\x92\\x93',\n",
       " '50',\n",
       " 'people',\n",
       " 'went',\n",
       " 'nightclub',\n",
       " 'good',\n",
       " 'night',\n",
       " '1',\n",
       " 'mans',\n",
       " 'actions',\n",
       " 'means',\n",
       " 'people',\n",
       " 'lost',\n",
       " 'families',\n",
       " 'forever',\n",
       " 'riporlando',\n",
       " 'never',\n",
       " 'chance',\n",
       " 'vote',\n",
       " 'presidential',\n",
       " 'candidate',\n",
       " 'excited',\n",
       " 'cycle',\n",
       " 'looks',\n",
       " 'different',\n",
       " 'alohafriday',\n",
       " 'time',\n",
       " 'exist',\n",
       " 'positivevibes',\n",
       " 'hawaiian',\n",
       " 'user',\n",
       " 'user',\n",
       " 'user',\n",
       " 'user',\n",
       " 'user',\n",
       " 'rip',\n",
       " 'fellow',\n",
       " 'nohern',\n",
       " 'ireland',\n",
       " 'fan',\n",
       " 'sadley',\n",
       " 'passed',\n",
       " 'away',\n",
       " 'tonight',\n",
       " 'gawa',\n",
       " 'forever',\n",
       " 'singing',\n",
       " 'cheering',\n",
       " 'fire',\n",
       " 'hard',\n",
       " 'monday',\n",
       " 'due',\n",
       " 'cloudy',\n",
       " 'weather',\n",
       " 'disabling',\n",
       " 'oxygen',\n",
       " 'production',\n",
       " 'today',\n",
       " 'goodnight',\n",
       " 'badmonday',\n",
       " 'unbelievable',\n",
       " '21st',\n",
       " 'century',\n",
       " 'wed',\n",
       " 'need',\n",
       " 'something',\n",
       " 'like',\n",
       " 'neverump',\n",
       " 'xenophobia',\n",
       " 'taylorswift1989',\n",
       " 'bull',\n",
       " 'dominate',\n",
       " 'bull',\n",
       " 'direct',\n",
       " 'whatever',\n",
       " 'want',\n",
       " 'w',\n",
       " 'morning',\n",
       " 'travelingram',\n",
       " 'dalat',\n",
       " 'ripinkylife',\n",
       " 'user',\n",
       " 'one',\n",
       " 'word',\n",
       " 'tells',\n",
       " 'photoshop',\n",
       " 'enoughisenough',\n",
       " 'dontphotoshopeverything',\n",
       " 'wheresallthenaturalphotos',\n",
       " 'oh',\n",
       " 'cedarpoint',\n",
       " 'waited',\n",
       " '2',\n",
       " 'hours',\n",
       " 'valravn',\n",
       " 'line',\n",
       " 'stopped',\n",
       " 'working',\n",
       " 'close',\n",
       " 'thankful',\n",
       " 'sunshine',\n",
       " 'thankful',\n",
       " 'positive',\n",
       " 'finally',\n",
       " 'finish',\n",
       " 'book',\n",
       " 'youve',\n",
       " 'working',\n",
       " 'awhile',\n",
       " 'bookworm',\n",
       " 'ontothenextnovel',\n",
       " 'yup',\n",
       " 'knicks',\n",
       " 'fan',\n",
       " 'hard',\n",
       " 'easier',\n",
       " 'nba',\n",
       " 'fan',\n",
       " 'playoffs',\n",
       " 'roll',\n",
       " 'around',\n",
       " 'ð\\x9f\\x98\\x8e',\n",
       " 'life',\n",
       " 'social',\n",
       " 'networking',\n",
       " 'embrace',\n",
       " 'day',\n",
       " 'mom',\n",
       " 'shares',\n",
       " 'bihday',\n",
       " 'user',\n",
       " 'bihday',\n",
       " 'snake',\n",
       " 'see',\n",
       " 'weekend',\n",
       " 'ð\\x9f\\x99\\x8cð\\x9f\\x8f¼',\n",
       " 'lovely',\n",
       " 'echeveria',\n",
       " 'bloomsflowers',\n",
       " 'grow',\n",
       " 'gardening',\n",
       " 'iphonesia',\n",
       " 'bliss',\n",
       " 'blooms',\n",
       " 'basilicabotanica',\n",
       " 'amazing',\n",
       " 'iam',\n",
       " 'positive',\n",
       " 'affirmation',\n",
       " 'model',\n",
       " 'love',\n",
       " 'u',\n",
       " 'take',\n",
       " 'u',\n",
       " 'time',\n",
       " 'urð\\x9f\\x93±',\n",
       " 'ð\\x9f\\x98\\x99ð\\x9f\\x98\\x8eð\\x9f\\x91\\x84ð\\x9f\\x91',\n",
       " 'ð\\x9f\\x92¦ð\\x9f\\x92¦ð\\x9f\\x92¦',\n",
       " 'whenever',\n",
       " 'im',\n",
       " 'something',\n",
       " 'goes',\n",
       " 'wrong',\n",
       " 'feeling',\n",
       " 'blue',\n",
       " 'illustration',\n",
       " 'best',\n",
       " 'pa',\n",
       " 'life',\n",
       " 'knowing',\n",
       " 'ð\\x9f\\x98\\x8aâ\\x98\\x80ï¸\\x8fð\\x9f\\x8c¼ð\\x9f\\x8c»',\n",
       " 'â\\x80¦',\n",
       " 'abc2020',\n",
       " 'getting',\n",
       " 'ready',\n",
       " '2',\n",
       " 'remove',\n",
       " 'victums',\n",
       " 'frm',\n",
       " 'pulseclub',\n",
       " 'prayfororlando',\n",
       " 'bihday',\n",
       " 'got',\n",
       " 'nose',\n",
       " 'job',\n",
       " 'user',\n",
       " 'ð\\x9f\\x8e\\x88ð\\x9f\\x90¶ð\\x9f\\x8e\\x89ð\\x9f\\x8e\\x82ð\\x9f\\x8e\\x81',\n",
       " 'bihday',\n",
       " 'petunia',\n",
       " 'love',\n",
       " 'ð\\x9f\\x99\\x83',\n",
       " 'concelebrate',\n",
       " 'albanpilgrimage',\n",
       " 'first',\n",
       " 'time',\n",
       " 'user',\n",
       " 'user',\n",
       " 'let',\n",
       " 'scumbaggery',\n",
       " 'begin',\n",
       " 'thank',\n",
       " 'ð\\x9f\\x98\\x8dð\\x9f\\x98\\x86',\n",
       " 'super',\n",
       " 'love',\n",
       " 'â\\x9d¤ï¸\\x8f',\n",
       " 'zpamdelacruz',\n",
       " 'wedding',\n",
       " 'dolores',\n",
       " 'capas',\n",
       " 'tarlac',\n",
       " 'scourge',\n",
       " 'playing',\n",
       " 'baroque',\n",
       " 'pieces',\n",
       " 'piano',\n",
       " 'beyond',\n",
       " 'belief',\n",
       " 'user',\n",
       " 'lets',\n",
       " 'fight',\n",
       " 'love',\n",
       " 'peace',\n",
       " 'happy',\n",
       " 'fatherâ\\x80\\x99s',\n",
       " 'day',\n",
       " 'mr',\n",
       " 'rayos',\n",
       " 'video',\n",
       " 'fathers',\n",
       " 'day',\n",
       " 'rayos',\n",
       " 'world',\n",
       " 'hotvideo',\n",
       " 'videos',\n",
       " 'user',\n",
       " 'ascot',\n",
       " 'times',\n",
       " 'babe',\n",
       " 'â\\x9d¤ï¸\\x8fâ\\x9d¤ï¸\\x8f',\n",
       " 'ascot',\n",
       " 'fashion',\n",
       " 'monochrome',\n",
       " 'style',\n",
       " 'instahappyday',\n",
       " 'weekendis',\n",
       " 'hereð\\x9f\\x99\\x8cð\\x9f\\x98\\x89ð\\x9f\\x98\\x98ð\\x9f\\x92\\x99ð\\x9f\\x98\\x8a',\n",
       " 'selfie',\n",
       " 'yolo',\n",
       " 'xoxo',\n",
       " 'like4like',\n",
       " 'happy',\n",
       " 'work',\n",
       " 'conference',\n",
       " 'right',\n",
       " 'mindset',\n",
       " 'leads',\n",
       " 'cultureofdevelopment',\n",
       " 'organizations',\n",
       " 'work',\n",
       " 'mindset',\n",
       " 'christina',\n",
       " 'grimmies',\n",
       " 'last',\n",
       " 'performance',\n",
       " 'shot',\n",
       " 'via',\n",
       " 'user',\n",
       " 'christinarip',\n",
       " 'voice',\n",
       " 'christinagrimmie',\n",
       " 'ready',\n",
       " 'dance',\n",
       " 'roar',\n",
       " 'preschoolers',\n",
       " 'students',\n",
       " 'proudâ\\x80¦',\n",
       " 'youve',\n",
       " 'really',\n",
       " 'hu',\n",
       " 'feelings',\n",
       " 'user',\n",
       " 'wife',\n",
       " 'adore',\n",
       " 'miss',\n",
       " 'poland',\n",
       " 'show',\n",
       " 'surgery',\n",
       " 'name',\n",
       " 'bridget',\n",
       " 'amp',\n",
       " 'shes',\n",
       " 'everything',\n",
       " 'user',\n",
       " 'jealous',\n",
       " 'right',\n",
       " 'chatiado',\n",
       " 'celebrate',\n",
       " 'every',\n",
       " 'man',\n",
       " 'played',\n",
       " 'fatherly',\n",
       " 'role',\n",
       " 'fathers',\n",
       " 'day',\n",
       " 'im',\n",
       " 'sure',\n",
       " 'happy',\n",
       " 'ð\\x9f\\x91\\x8fð\\x9f\\x8f½ð\\x9f\\x91\\x8fð\\x9f\\x8f½ð\\x9f\\x91\\x8fð\\x9f\\x8f½',\n",
       " 'hour',\n",
       " 'ð\\x9f\\x98©the',\n",
       " 'white',\n",
       " 'establishment',\n",
       " 'cant',\n",
       " 'blk',\n",
       " 'folx',\n",
       " 'running',\n",
       " 'around',\n",
       " 'loving',\n",
       " 'promoting',\n",
       " 'greatness',\n",
       " 'good',\n",
       " 'morning',\n",
       " 'journey',\n",
       " 'begins',\n",
       " 'ð\\x9f\\x98\\x84ð\\x9f\\x91\\x8dð\\x9f\\x8f»ð\\x9f\\x9b³',\n",
       " 'travel',\n",
       " 'yeah',\n",
       " 'thejourneybegins',\n",
       " 'helloâ\\x80¦',\n",
       " 'user',\n",
       " 'luv',\n",
       " 'hottweets',\n",
       " 'like',\n",
       " 'â\\x96¶',\n",
       " 'â\\x99¥venusexchangeâ\\x99¥',\n",
       " 'new',\n",
       " 'brochures',\n",
       " 'arrived',\n",
       " 'exciting',\n",
       " 'aworks',\n",
       " 'solutions',\n",
       " 'much',\n",
       " 'stuff',\n",
       " 'happening',\n",
       " 'florida',\n",
       " 'first',\n",
       " 'orlando',\n",
       " 'shooting',\n",
       " 'disneygatorattack',\n",
       " 'two',\n",
       " 'year',\n",
       " 'old',\n",
       " 'kidð\\x9f\\x98¥ð\\x9f\\x90\\x8a',\n",
       " 'user',\n",
       " 'ferrari',\n",
       " 'itð\\x9f\\x92ªð\\x9f\\x8f¼',\n",
       " 'sake',\n",
       " 'championship',\n",
       " 'gp',\n",
       " 'clearly',\n",
       " 'turning',\n",
       " 'point',\n",
       " 'rb',\n",
       " 'ferrarimercsð\\x9f\\x98\\x8d',\n",
       " 'aced',\n",
       " 'first',\n",
       " 'test',\n",
       " 'proud',\n",
       " 'seeks',\n",
       " 'probe',\n",
       " 'udtapunjab',\n",
       " 'leak',\n",
       " 'points',\n",
       " 'finger',\n",
       " 'amarinder',\n",
       " 'aap',\n",
       " 'user',\n",
       " 'wrapping',\n",
       " 'senseaboutmaths',\n",
       " 'user',\n",
       " '6th',\n",
       " 'user',\n",
       " 'user',\n",
       " 'user',\n",
       " 'user',\n",
       " 'hey',\n",
       " 'white',\n",
       " 'people',\n",
       " 'call',\n",
       " 'people',\n",
       " 'white',\n",
       " 'user',\n",
       " 'race',\n",
       " 'identity',\n",
       " 'medâ\\x80¦',\n",
       " 'user',\n",
       " 'user',\n",
       " 'might',\n",
       " 'shown',\n",
       " 'today',\n",
       " 'regurgitated',\n",
       " 'talking',\n",
       " 'points',\n",
       " 'name',\n",
       " 'calling',\n",
       " 'sometimes',\n",
       " 'raise',\n",
       " 'brows',\n",
       " 'raise',\n",
       " 'bar',\n",
       " 'golfstrengthandconditioning',\n",
       " 'strong',\n",
       " 'felixfoisgolf',\n",
       " 'ð\\x9f\\x98\\x80ð\\x9f\\x98\\x80ð\\x9f\\x98\\x80',\n",
       " 'greathonour',\n",
       " 'careerconvos',\n",
       " 'user',\n",
       " 'user',\n",
       " 'user',\n",
       " 'designing',\n",
       " 'innovative',\n",
       " 'learning',\n",
       " 'space',\n",
       " 'user',\n",
       " 'include',\n",
       " 'wateringhole',\n",
       " 'cave',\n",
       " 'mountaintop',\n",
       " 'campfire',\n",
       " 'user',\n",
       " 'hâ\\x80¦',\n",
       " 'altright',\n",
       " 'uses',\n",
       " 'amp',\n",
       " 'insecurity',\n",
       " 'lure',\n",
       " 'men',\n",
       " 'whitesupremacy',\n",
       " 'carrying',\n",
       " 'gun',\n",
       " 'wouldnt',\n",
       " 'helped',\n",
       " 'cant',\n",
       " 'take',\n",
       " 'gun',\n",
       " 'control',\n",
       " 'wont',\n",
       " 'stop',\n",
       " 'black',\n",
       " 'market',\n",
       " 'terrorism',\n",
       " 'get',\n",
       " 'worse',\n",
       " 'use',\n",
       " 'power',\n",
       " 'mind',\n",
       " 'heal',\n",
       " 'body',\n",
       " 'altwaystoheal',\n",
       " 'healthy',\n",
       " 'peace',\n",
       " 'woohoo',\n",
       " '5',\n",
       " 'weeks',\n",
       " 'go',\n",
       " 'far',\n",
       " 'away',\n",
       " 'place',\n",
       " 'family',\n",
       " 'members',\n",
       " 'hus',\n",
       " 'ready',\n",
       " 'rehearse',\n",
       " 'tonight',\n",
       " 'new',\n",
       " 'music',\n",
       " 'new',\n",
       " 'videos',\n",
       " 'look',\n",
       " 'announcement',\n",
       " 'midweek',\n",
       " 'newmusic',\n",
       " 'watchthisspace',\n",
       " 'guitar',\n",
       " 'monday',\n",
       " 'nights',\n",
       " '8pm',\n",
       " 'channel',\n",
       " 'finally',\n",
       " 'get',\n",
       " 'see',\n",
       " 'fuss',\n",
       " 'watching',\n",
       " 'new',\n",
       " 'episodes',\n",
       " 'user',\n",
       " 'user',\n",
       " 'user',\n",
       " 'offline',\n",
       " 'nice',\n",
       " 'long',\n",
       " 'night',\n",
       " 'ð\\x9f\\x98\\x9a',\n",
       " 'snapchat',\n",
       " 'user',\n",
       " 'redhead',\n",
       " 'vermillionred',\n",
       " '15',\n",
       " 'things',\n",
       " 'incredibly',\n",
       " 'people',\n",
       " 'yes',\n",
       " 'received',\n",
       " 'acceptance',\n",
       " 'letter',\n",
       " 'masters',\n",
       " 'back',\n",
       " 'user',\n",
       " 'october',\n",
       " 'goodtimes',\n",
       " 'history',\n",
       " 'daughter',\n",
       " 'riding',\n",
       " 'bike',\n",
       " 'around',\n",
       " 'driveway',\n",
       " 'son',\n",
       " 'playing',\n",
       " 'guitar',\n",
       " 'us',\n",
       " 'enjoy',\n",
       " 'ð\\x9f\\x8dº',\n",
       " 'campfire',\n",
       " 'summeime',\n",
       " 'memories',\n",
       " 'omg',\n",
       " 'loving',\n",
       " 'station',\n",
       " 'way',\n",
       " 'jam',\n",
       " 'work',\n",
       " 'getting',\n",
       " 'work',\n",
       " 'done',\n",
       " 'course',\n",
       " 'memories',\n",
       " 'user',\n",
       " 'user',\n",
       " 'ill',\n",
       " 'always',\n",
       " 'hope',\n",
       " 'one',\n",
       " 'day',\n",
       " 'ill',\n",
       " 'get',\n",
       " 'hug',\n",
       " 'dont',\n",
       " 'think',\n",
       " 'gonna',\n",
       " 'happen',\n",
       " 'anytime',\n",
       " 'soon',\n",
       " 'model',\n",
       " 'love',\n",
       " 'u',\n",
       " 'take',\n",
       " 'u',\n",
       " 'time',\n",
       " 'urð\\x9f\\x93±',\n",
       " 'ð\\x9f\\x98\\x99ð\\x9f\\x98\\x8eð\\x9f\\x91\\x84ð\\x9f\\x91',\n",
       " 'ð\\x9f\\x92¦ð\\x9f\\x92¦ð\\x9f\\x92¦',\n",
       " 'couple',\n",
       " 'sex',\n",
       " 'fat',\n",
       " 'naked',\n",
       " 'japanese',\n",
       " 'girls',\n",
       " 'hump',\n",
       " 'hump',\n",
       " 'day',\n",
       " 'humpersð\\x9f\\x98©',\n",
       " 'edwardsville',\n",
       " 'pennsylvania',\n",
       " 'personalised',\n",
       " 'gbp',\n",
       " '799',\n",
       " 'get',\n",
       " 'shop',\n",
       " 'cool',\n",
       " 'home',\n",
       " 'fun',\n",
       " 'truly',\n",
       " 'sick',\n",
       " 'ppl',\n",
       " 'trump',\n",
       " 'calling',\n",
       " 'obama',\n",
       " 'resign',\n",
       " 'orlando',\n",
       " 'shootings',\n",
       " 'boy',\n",
       " 'point',\n",
       " '8',\n",
       " 'years',\n",
       " 'talk',\n",
       " 'change',\n",
       " 'user',\n",
       " 'user',\n",
       " 'user',\n",
       " 'user',\n",
       " 'long',\n",
       " 'nashvilletour2016',\n",
       " 'nashvilleforever',\n",
       " 'ð\\x9f\\x92\\x96ð\\x9f\\x92\\x96ð\\x9f\\x92\\x96',\n",
       " 'â\\x86\\x9d',\n",
       " 'eurusd',\n",
       " 'clears',\n",
       " '11400',\n",
       " 'barrier',\n",
       " 'jumps',\n",
       " 'fresh',\n",
       " '4week',\n",
       " 'high',\n",
       " 'blog',\n",
       " 'silver',\n",
       " 'gold',\n",
       " 'forex',\n",
       " 'going',\n",
       " 'la',\n",
       " 'tomorrow',\n",
       " 'thankful',\n",
       " 'good',\n",
       " 'friends',\n",
       " 'thankful',\n",
       " 'positive',\n",
       " 'still',\n",
       " 'wrap',\n",
       " 'head',\n",
       " 'around',\n",
       " 'fact',\n",
       " 'christinagrimmie',\n",
       " 'gone',\n",
       " 'fact',\n",
       " 'man',\n",
       " 'destroyed',\n",
       " 'prayfororlando',\n",
       " 'received',\n",
       " 'dis',\n",
       " 'user',\n",
       " 'cant',\n",
       " 'wait',\n",
       " 'sta',\n",
       " 'baking',\n",
       " 'eyelids',\n",
       " 'ð\\x9f\\x98\\x9að\\x9f\\x98\\x9að\\x9f\\x98\\x8eð\\x9f\\x98\\x8eð\\x9f\\x98\\x8eð\\x9f\\x98\\x8e',\n",
       " 'ð\\x9f\\x98\\x89ð\\x9f\\x98\\x89ð\\x9f\\x98\\x89â\\x80¦',\n",
       " 'playing',\n",
       " 'vigilfororlando',\n",
       " 'harp',\n",
       " 'clonakilty',\n",
       " 'rip',\n",
       " 'via',\n",
       " 'user',\n",
       " 'user',\n",
       " 'yes',\n",
       " 'yes',\n",
       " 'yes',\n",
       " 'ihavenofriends',\n",
       " 'someonecomewithme',\n",
       " 'sundayð\\x9f\\x92\\x95',\n",
       " 'weekend',\n",
       " 'relax',\n",
       " 'icon',\n",
       " 'woman',\n",
       " 'sundaymorning',\n",
       " 'sunday',\n",
       " 'marilynmonroe',\n",
       " 'user',\n",
       " 'im',\n",
       " 'interested',\n",
       " 'linguistics',\n",
       " 'doesnt',\n",
       " 'address',\n",
       " 'race',\n",
       " 'amp',\n",
       " 'racism',\n",
       " 'power',\n",
       " 'raciolinguistics',\n",
       " 'bringsâ\\x80¦',\n",
       " 'one',\n",
       " 'beloved',\n",
       " 'long',\n",
       " 'lost',\n",
       " 'cds',\n",
       " 'recovered',\n",
       " 'thanks',\n",
       " 'apple',\n",
       " 'music',\n",
       " 'marvel',\n",
       " 'song',\n",
       " 'musica',\n",
       " 'weed',\n",
       " 'ripchristina',\n",
       " 'adele',\n",
       " 'dance',\n",
       " 'vine',\n",
       " 'user',\n",
       " 'user',\n",
       " 'user',\n",
       " 'mocked',\n",
       " 'obama',\n",
       " 'black',\n",
       " 'user',\n",
       " 'user',\n",
       " 'user',\n",
       " 'user',\n",
       " 'brexit',\n",
       " 'â\\x86\\x9d',\n",
       " 'spell',\n",
       " 'brexit',\n",
       " 'referendum',\n",
       " 'commerzbank',\n",
       " 'blog',\n",
       " 'silver',\n",
       " 'gold',\n",
       " 'forex',\n",
       " '100',\n",
       " 'amazing',\n",
       " 'health',\n",
       " 'benefits',\n",
       " 'cucumbers',\n",
       " 'healthy',\n",
       " 'altwaystoheal',\n",
       " 'model',\n",
       " 'love',\n",
       " 'u',\n",
       " 'take',\n",
       " 'u',\n",
       " 'time',\n",
       " 'urð\\x9f\\x93±',\n",
       " 'ð\\x9f\\x98\\x99ð\\x9f\\x98\\x8eð\\x9f\\x91\\x84ð\\x9f\\x91',\n",
       " 'ð\\x9f\\x92¦ð\\x9f\\x92¦ð\\x9f\\x92¦',\n",
       " 'work',\n",
       " 'ð\\x9f\\x92ªð\\x9f\\x8f»ð\\x9f\\x9a¶ð\\x9f\\x8f¼',\n",
       " 'ofw',\n",
       " 'pinoy',\n",
       " 'followme',\n",
       " 'igers',\n",
       " 'instagood',\n",
       " 'smile',\n",
       " 'love',\n",
       " 'toradora',\n",
       " 'anime',\n",
       " 'animeedit',\n",
       " ...]"
      ]
     },
     "execution_count": 25,
     "metadata": {},
     "output_type": "execute_result"
    }
   ],
   "source": [
    "corpus"
   ]
  },
  {
   "cell_type": "code",
   "execution_count": 26,
   "id": "67f0f5d2",
   "metadata": {},
   "outputs": [],
   "source": [
    "#Importing the googles pre trained word2vec model of 300 size vectors using gensim\n",
    "import gensim\n",
    "model_W2V = gensim.models.KeyedVectors.load_word2vec_format(\"./GoogleNews-vectors-negative300.bin\",unicode_errors=\"ignore\",binary=True)"
   ]
  },
  {
   "cell_type": "code",
   "execution_count": 27,
   "id": "582d9cf6",
   "metadata": {},
   "outputs": [
    {
     "data": {
      "text/plain": [
       "(300,)"
      ]
     },
     "execution_count": 27,
     "metadata": {},
     "output_type": "execute_result"
    }
   ],
   "source": [
    "model_W2V.get_vector(\"ass\").shape"
   ]
  },
  {
   "cell_type": "code",
   "execution_count": 28,
   "id": "1568f524",
   "metadata": {},
   "outputs": [
    {
     "data": {
      "text/plain": [
       "(91513,)"
      ]
     },
     "execution_count": 28,
     "metadata": {},
     "output_type": "execute_result"
    }
   ],
   "source": [
    "x.shape"
   ]
  },
  {
   "cell_type": "markdown",
   "id": "120b2d02",
   "metadata": {},
   "source": [
    "# Preparation of Vectorized Tweets"
   ]
  },
  {
   "cell_type": "code",
   "execution_count": 29,
   "id": "d0a7ced0",
   "metadata": {},
   "outputs": [],
   "source": [
    "#Function that takes a raw untokenized tweets as input and outputs the embeddings\n",
    "#Converts the tweets into vectors of size 300x1 \n",
    "#For each word a vector of size 300x1 is calculated,and then we calculate the average vector.\n",
    "def sentence_vec(sentence,model):\n",
    "    sentence = sentence.split()\n",
    "    #words = str(sentence.split())\n",
    "    index2word_set = set(model.key_to_index)\n",
    "    svec = np.zeros((300, ), dtype='float32')\n",
    "    n = 0\n",
    "    for word in sentence:\n",
    "        #print (word)\n",
    "        if word in index2word_set:\n",
    "            n += 1\n",
    "            svec = np.add(svec, model.get_vector(word))\n",
    "    \n",
    "    if(n > 1):\n",
    "        svec = np.divide(svec, n)\n",
    "    return svec"
   ]
  },
  {
   "cell_type": "code",
   "execution_count": 30,
   "id": "bb55dc0a",
   "metadata": {},
   "outputs": [],
   "source": [
    "# From the trained model, we have prepared vectorized sentences\n",
    "vectored_sens = x\n",
    "for i in range(vectored_sens.shape[0]):\n",
    "    vectored_sens.iloc[i] = sentence_vec(vectored_sens.iloc[i],model_W2V)"
   ]
  },
  {
   "cell_type": "code",
   "execution_count": 68,
   "id": "3dc1c557",
   "metadata": {},
   "outputs": [
    {
     "name": "stdout",
     "output_type": "stream",
     "text": [
      "1    [0.07542928, -0.020650228, 0.0060132346, 0.159...\n",
      "1    [-0.06672802, 0.01939621, 0.074804686, 0.17119...\n",
      "1    [-0.060253907, 0.0039550783, -0.008007812, 0.0...\n",
      "1    [0.0126953125, 0.10211182, 0.06378174, 0.09197...\n",
      "Name: tweet, dtype: object\n"
     ]
    }
   ],
   "source": [
    "#vectored_sens.to_pickle(\"dummy.pkl\")\n",
    "unpickled_df = pd.read_pickle(\"dummy.pkl\")\n",
    "print (vectored_sens[1])"
   ]
  },
  {
   "cell_type": "markdown",
   "id": "9ac0230b",
   "metadata": {},
   "source": [
    "# Data Spliting"
   ]
  },
  {
   "cell_type": "code",
   "execution_count": 69,
   "id": "b0081bba",
   "metadata": {},
   "outputs": [],
   "source": [
    "# Train/Test Spliting of Data: 67-33\n",
    "from sklearn.model_selection import train_test_split\n",
    "# df_com[\"label\"] = df_com[\"label\"]\n",
    "X_train,X_test,y_train,y_test = train_test_split(unpickled_df,df_com[\"label\"],test_size=0.33,random_state=42)"
   ]
  },
  {
   "cell_type": "code",
   "execution_count": 70,
   "id": "33a10040",
   "metadata": {},
   "outputs": [
    {
     "data": {
      "text/plain": [
       "(array([0., 1.]), array([20024, 41289], dtype=int64))"
      ]
     },
     "execution_count": 70,
     "metadata": {},
     "output_type": "execute_result"
    }
   ],
   "source": [
    "np.unique(y_train,return_counts=True)"
   ]
  },
  {
   "cell_type": "code",
   "execution_count": 71,
   "id": "346a5f7a",
   "metadata": {},
   "outputs": [
    {
     "data": {
      "text/plain": [
       "9215     1.0\n",
       "5927     1.0\n",
       "469      0.0\n",
       "2369     1.0\n",
       "28617    0.0\n",
       "        ... \n",
       "6265     0.0\n",
       "12261    1.0\n",
       "21099    1.0\n",
       "860      1.0\n",
       "15795    0.0\n",
       "Name: label, Length: 61313, dtype: float64"
      ]
     },
     "execution_count": 71,
     "metadata": {},
     "output_type": "execute_result"
    }
   ],
   "source": [
    "y_train"
   ]
  },
  {
   "cell_type": "markdown",
   "id": "b44e4c43",
   "metadata": {},
   "source": [
    "# One-Hot Encoding "
   ]
  },
  {
   "cell_type": "code",
   "execution_count": 72,
   "id": "779b7219",
   "metadata": {},
   "outputs": [
    {
     "name": "stdout",
     "output_type": "stream",
     "text": [
      "[0.0, 1.0]\n"
     ]
    }
   ],
   "source": [
    "# Label encoding the Y_train, _Ytest, e.g. [Class A, Class B, Class C] ==> [1,2,3]\n",
    "from sklearn import preprocessing\n",
    "le = preprocessing.LabelEncoder()\n",
    "le.fit(df_com[\"label\"])\n",
    "\n",
    "print(list(le.classes_))\n",
    "\n",
    "encoded_y_train = le.transform(y_train) \n",
    "encoded_y_test = le.transform(y_test)"
   ]
  },
  {
   "cell_type": "markdown",
   "id": "58e9757c",
   "metadata": {},
   "source": [
    "# Build Phase"
   ]
  },
  {
   "cell_type": "code",
   "execution_count": 109,
   "id": "3252696b",
   "metadata": {},
   "outputs": [],
   "source": [
    "import numpy as np\n",
    "from sklearn import metrics\n",
    "def roc_curve(y,scores,pos):\n",
    "    fpr, tpr, thresholds = metrics.roc_curve(y, scores, pos_label=pos)\n",
    "    fpr\n",
    "\n",
    "    tpr\n",
    "\n",
    "    thresholds\n",
    "\n",
    "    from sklearn.metrics import roc_curve, auc\n",
    "    # Compute ROC curve and ROC area for each class\n",
    "    fpr = dict()\n",
    "    tpr = dict()\n",
    "    roc_auc = dict()\n",
    "    # for i in range(4):\n",
    "    fpr[i], tpr[i], _ = roc_curve(y, scores,pos_label=pos)\n",
    "    roc_auc[i] = auc(fpr[i], tpr[i])\n",
    "\n",
    "    # Compute micro-average ROC curve and ROC area\n",
    "    fpr[\"micro\"], tpr[\"micro\"], _ = roc_curve(y.ravel(), scores.ravel(),pos_label=pos)\n",
    "    roc_auc[\"micro\"] = auc(fpr[\"micro\"], tpr[\"micro\"])\n",
    "    from matplotlib import pyplot as plt\n",
    "    plt.figure()\n",
    "    lw = 2\n",
    "    plt.plot(fpr[91512], tpr[91512], color='darkorange',\n",
    "             lw=lw, label='ROC curve (area = %0.2f)' % roc_auc[91512])\n",
    "    plt.plot([0, 1], [0, 1], color='navy', lw=lw, linestyle='--')\n",
    "    plt.xlim([0.0, 1.0])\n",
    "    plt.ylim([0.0, 1.05])\n",
    "    plt.xlabel('False Positive Rate')\n",
    "    plt.ylabel('True Positive Rate')\n",
    "    plt.title('Receiver operating characteristic example')\n",
    "    plt.legend(loc=\"lower right\")\n",
    "    plt.show()"
   ]
  },
  {
   "cell_type": "code",
   "execution_count": 74,
   "id": "684324ac",
   "metadata": {},
   "outputs": [
    {
     "data": {
      "text/plain": [
       "array([1, 1, 0, ..., 1, 1, 0], dtype=int64)"
      ]
     },
     "execution_count": 74,
     "metadata": {},
     "output_type": "execute_result"
    }
   ],
   "source": [
    "# np.array(list(X_train)).shape\n",
    "encoded_y_train"
   ]
  },
  {
   "cell_type": "code",
   "execution_count": 75,
   "id": "c1c52847",
   "metadata": {},
   "outputs": [
    {
     "data": {
      "text/plain": [
       "0    [-0.07231649, -0.014526367, 0.040161133, 0.150...\n",
       "0    [0.057525635, 0.040153503, -0.15916443, 0.1513...\n",
       "0    [0.040578205, -0.007817586, 0.08454386, 0.1097...\n",
       "Name: tweet, dtype: object"
      ]
     },
     "execution_count": 75,
     "metadata": {},
     "output_type": "execute_result"
    }
   ],
   "source": [
    "X_train[0]"
   ]
  },
  {
   "cell_type": "code",
   "execution_count": 105,
   "id": "1b57af4e",
   "metadata": {},
   "outputs": [],
   "source": [
    "from sklearn.ensemble import RandomForestClassifier"
   ]
  },
  {
   "cell_type": "code",
   "execution_count": 106,
   "id": "90014f90",
   "metadata": {},
   "outputs": [
    {
     "name": "stdout",
     "output_type": "stream",
     "text": [
      "RandomForestClassifier(max_features=None)\n"
     ]
    }
   ],
   "source": [
    "# Training a Random Forest Classifier\n",
    "RFC = RandomForestClassifier(max_features=None)\n",
    "RFC = RFC.fit(list(X_train), encoded_y_train)\n",
    "\n",
    "print(RFC)"
   ]
  },
  {
   "cell_type": "code",
   "execution_count": 107,
   "id": "b5f6033e",
   "metadata": {},
   "outputs": [
    {
     "name": "stdout",
     "output_type": "stream",
     "text": [
      "Accuracy RF + Word2Vec:  0.8447019867549669\n"
     ]
    }
   ],
   "source": [
    "pred_rfc = RFC.predict(list(X_test))\n",
    "print (\"Accuracy RF + Word2Vec: \",np.sum(pred_rfc == encoded_y_test)/float(pred_rfc.shape[0]))"
   ]
  },
  {
   "cell_type": "code",
   "execution_count": 122,
   "id": "35c08394",
   "metadata": {},
   "outputs": [
    {
     "name": "stderr",
     "output_type": "stream",
     "text": [
      "C:\\Users\\SAMSUNG\\anaconda3\\lib\\site-packages\\sklearn\\utils\\validation.py:70: FutureWarning: Pass pos_label=1 as keyword args. From version 1.0 (renaming of 0.25) passing these as positional arguments will result in an error\n",
      "  warnings.warn(f\"Pass {args_msg} as keyword args. From version \"\n"
     ]
    },
    {
     "data": {
      "text/plain": [
       "(array([0.        , 0.37634076, 1.        ]),\n",
       " array([0.        , 0.94922942, 1.        ]),\n",
       " array([2, 1, 0], dtype=int64))"
      ]
     },
     "execution_count": 122,
     "metadata": {},
     "output_type": "execute_result"
    }
   ],
   "source": [
    "roc_curve(encoded_y_test,pred_rfc,1)"
   ]
  },
  {
   "cell_type": "code",
   "execution_count": 118,
   "id": "999387d1",
   "metadata": {},
   "outputs": [
    {
     "data": {
      "text/plain": [
       "(30200,)"
      ]
     },
     "execution_count": 118,
     "metadata": {},
     "output_type": "execute_result"
    }
   ],
   "source": [
    "pred_rfc.shape"
   ]
  },
  {
   "cell_type": "code",
   "execution_count": 112,
   "id": "3898c792",
   "metadata": {},
   "outputs": [
    {
     "name": "stdout",
     "output_type": "stream",
     "text": [
      "SVC(gamma='auto')\n",
      "Accuracy SVM + Word2Vec:  0.8348675496688742\n"
     ]
    }
   ],
   "source": [
    "# Training a SVM\n",
    "from sklearn.svm import SVC\n",
    "SVM = SVC(gamma='auto')\n",
    "SVM = SVM.fit(list(X_train), encoded_y_train)\n",
    "print(SVM)\n",
    "pred_svm = SVM.predict(list(X_test))\n",
    "print (\"Accuracy SVM + Word2Vec: \",np.sum(pred_svm == encoded_y_test)/float(pred_svm.shape[0]))"
   ]
  },
  {
   "cell_type": "code",
   "execution_count": 119,
   "id": "b4ca86b4",
   "metadata": {},
   "outputs": [
    {
     "name": "stderr",
     "output_type": "stream",
     "text": [
      "C:\\Users\\SAMSUNG\\anaconda3\\lib\\site-packages\\sklearn\\utils\\validation.py:70: FutureWarning: Pass pos_label=1 as keyword args. From version 1.0 (renaming of 0.25) passing these as positional arguments will result in an error\n",
      "  warnings.warn(f\"Pass {args_msg} as keyword args. From version \"\n"
     ]
    },
    {
     "data": {
      "text/plain": [
       "(array([0.        , 0.41945132, 1.        ]),\n",
       " array([0.        , 0.95513071, 1.        ]),\n",
       " array([2, 1, 0], dtype=int64))"
      ]
     },
     "execution_count": 119,
     "metadata": {},
     "output_type": "execute_result"
    }
   ],
   "source": [
    "roc_curve(encoded_y_test,pred_svm,1)"
   ]
  },
  {
   "cell_type": "code",
   "execution_count": 76,
   "id": "5f7eee26",
   "metadata": {},
   "outputs": [],
   "source": [
    "#from tensorflow import keras\n",
    "from keras.models import Sequential\n",
    "from keras.layers import Dense, Activation, Dropout,Flatten,Embedding,SpatialDropout1D,LSTM\n",
    "from keras.preprocessing import text, sequence\n",
    "from keras.layers.convolutional import Conv1D\n",
    "from keras import utils\n",
    "import keras\n",
    "from keras import utils as np_utils\n",
    "import tensorflow"
   ]
  },
  {
   "cell_type": "code",
   "execution_count": 77,
   "id": "b1ead264",
   "metadata": {},
   "outputs": [],
   "source": [
    "# Further encoding encoded classes ie [1,2,3] into one hot encoded form [1,0,0],[0,1,0] etc\n",
    "num_classes = np.max(encoded_y_train) + 1\n",
    "\n",
    "cat_y_train = keras.utils.np_utils.to_categorical(encoded_y_train, num_classes)\n",
    "cat_y_test = keras.utils.np_utils.to_categorical(encoded_y_test, num_classes)"
   ]
  },
  {
   "cell_type": "code",
   "execution_count": 78,
   "id": "73d345f5",
   "metadata": {},
   "outputs": [],
   "source": [
    "# Building a fully connected Neural Network\n",
    "model_FCC = Sequential()\n",
    "model_FCC.add(Dense(1024, input_shape=(300,)))\n",
    "model_FCC.add(Dropout(0.95))\n",
    "model_FCC.add(Dense(1024))\n",
    "model_FCC.add(Dense(num_classes))\n",
    "model_FCC.add(Activation('softmax'))\n",
    "\n",
    "adam = keras.optimizers.adam_v2.Adam()\n",
    "model_FCC.compile(loss='categorical_crossentropy',optimizer=adam)\n"
   ]
  },
  {
   "cell_type": "code",
   "execution_count": 79,
   "id": "0cd2b88c",
   "metadata": {},
   "outputs": [],
   "source": [
    "#Setting up the shapes and types\n",
    "temp = []\n",
    "for i in range(len(X_train)):\n",
    "    temp.append(X_train.iloc[i])\n",
    "X_train = temp"
   ]
  },
  {
   "cell_type": "code",
   "execution_count": 80,
   "id": "88701fcb",
   "metadata": {
    "scrolled": true
   },
   "outputs": [
    {
     "name": "stdout",
     "output_type": "stream",
     "text": [
      "Epoch 1/50\n",
      "1725/1725 [==============================] - 39s 21ms/step - loss: 0.4736 - val_loss: 0.4142\n",
      "Epoch 2/50\n",
      "1725/1725 [==============================] - 36s 21ms/step - loss: 0.4561 - val_loss: 0.3891\n",
      "Epoch 3/50\n",
      "1725/1725 [==============================] - 34s 20ms/step - loss: 0.4566 - val_loss: 0.3905\n",
      "Epoch 4/50\n",
      "1725/1725 [==============================] - 33s 19ms/step - loss: 0.4598 - val_loss: 0.3910\n",
      "Epoch 5/50\n",
      "1725/1725 [==============================] - 33s 19ms/step - loss: 0.4661 - val_loss: 0.3907\n",
      "Epoch 6/50\n",
      "1725/1725 [==============================] - 33s 19ms/step - loss: 0.4712 - val_loss: 0.4047\n",
      "Epoch 7/50\n",
      "1725/1725 [==============================] - 33s 19ms/step - loss: 0.4738 - val_loss: 0.3854\n",
      "Epoch 8/50\n",
      "1725/1725 [==============================] - 33s 19ms/step - loss: 0.4775 - val_loss: 0.3816\n",
      "Epoch 9/50\n",
      "1725/1725 [==============================] - 33s 19ms/step - loss: 0.4818 - val_loss: 0.4048\n",
      "Epoch 10/50\n",
      "1725/1725 [==============================] - 33s 19ms/step - loss: 0.4868 - val_loss: 0.3899\n",
      "Epoch 11/50\n",
      "1725/1725 [==============================] - 33s 19ms/step - loss: 0.4915 - val_loss: 0.4011\n",
      "Epoch 12/50\n",
      "1725/1725 [==============================] - 33s 19ms/step - loss: 0.4960 - val_loss: 0.4064\n",
      "Epoch 13/50\n",
      "1725/1725 [==============================] - 32s 19ms/step - loss: 0.4926 - val_loss: 0.3864\n",
      "Epoch 14/50\n",
      "1725/1725 [==============================] - 33s 19ms/step - loss: 0.4969 - val_loss: 0.3840\n",
      "Epoch 15/50\n",
      "1725/1725 [==============================] - 33s 19ms/step - loss: 0.5028 - val_loss: 0.4078\n",
      "Epoch 16/50\n",
      "1725/1725 [==============================] - 32s 19ms/step - loss: 0.5047 - val_loss: 0.3975\n",
      "Epoch 17/50\n",
      "1725/1725 [==============================] - 33s 19ms/step - loss: 0.5016 - val_loss: 0.4174\n",
      "Epoch 18/50\n",
      "1725/1725 [==============================] - 32s 19ms/step - loss: 0.5071 - val_loss: 0.4104\n",
      "Epoch 19/50\n",
      "1725/1725 [==============================] - 33s 19ms/step - loss: 0.5106 - val_loss: 0.3907\n",
      "Epoch 20/50\n",
      "1725/1725 [==============================] - 33s 19ms/step - loss: 0.5163 - val_loss: 0.4001\n",
      "Epoch 21/50\n",
      "1725/1725 [==============================] - 33s 19ms/step - loss: 0.5153 - val_loss: 0.4332\n",
      "Epoch 22/50\n",
      "1725/1725 [==============================] - 33s 19ms/step - loss: 0.5196 - val_loss: 0.4020\n",
      "Epoch 23/50\n",
      "1725/1725 [==============================] - 33s 19ms/step - loss: 0.5167 - val_loss: 0.4058\n",
      "Epoch 24/50\n",
      "1725/1725 [==============================] - 33s 19ms/step - loss: 0.5168 - val_loss: 0.4032\n",
      "Epoch 25/50\n",
      "1725/1725 [==============================] - 32s 19ms/step - loss: 0.5182 - val_loss: 0.3972\n",
      "Epoch 26/50\n",
      "1725/1725 [==============================] - 33s 19ms/step - loss: 0.5197 - val_loss: 0.4092\n",
      "Epoch 27/50\n",
      "1725/1725 [==============================] - 33s 19ms/step - loss: 0.5228 - val_loss: 0.3915\n",
      "Epoch 28/50\n",
      "1725/1725 [==============================] - 33s 19ms/step - loss: 0.5242 - val_loss: 0.4168\n",
      "Epoch 29/50\n",
      "1725/1725 [==============================] - 33s 19ms/step - loss: 0.5293 - val_loss: 0.3989\n",
      "Epoch 30/50\n",
      "1725/1725 [==============================] - 33s 19ms/step - loss: 0.5239 - val_loss: 0.4034\n",
      "Epoch 31/50\n",
      "1725/1725 [==============================] - 33s 19ms/step - loss: 0.5319 - val_loss: 0.4157\n",
      "Epoch 32/50\n",
      "1725/1725 [==============================] - 33s 19ms/step - loss: 0.5290 - val_loss: 0.4055\n",
      "Epoch 33/50\n",
      "1725/1725 [==============================] - 33s 19ms/step - loss: 0.5282 - val_loss: 0.4021\n",
      "Epoch 34/50\n",
      "1725/1725 [==============================] - 33s 19ms/step - loss: 0.5330 - val_loss: 0.4162\n",
      "Epoch 35/50\n",
      "1725/1725 [==============================] - 33s 19ms/step - loss: 0.5357 - val_loss: 0.3990\n",
      "Epoch 36/50\n",
      "1725/1725 [==============================] - 33s 19ms/step - loss: 0.5286 - val_loss: 0.3983\n",
      "Epoch 37/50\n",
      "1725/1725 [==============================] - 33s 19ms/step - loss: 0.5324 - val_loss: 0.4151\n",
      "Epoch 38/50\n",
      "1725/1725 [==============================] - 35s 20ms/step - loss: 0.5352 - val_loss: 0.3987\n",
      "Epoch 39/50\n",
      "1725/1725 [==============================] - 36s 21ms/step - loss: 0.5368 - val_loss: 0.3996\n",
      "Epoch 40/50\n",
      "1725/1725 [==============================] - 38s 22ms/step - loss: 0.5375 - val_loss: 0.4135\n",
      "Epoch 41/50\n",
      "1725/1725 [==============================] - 37s 21ms/step - loss: 0.5332 - val_loss: 0.4292\n",
      "Epoch 42/50\n",
      "1725/1725 [==============================] - 37s 22ms/step - loss: 0.5383 - val_loss: 0.4180\n",
      "Epoch 43/50\n",
      "1725/1725 [==============================] - 37s 21ms/step - loss: 0.5409 - val_loss: 0.3890\n",
      "Epoch 44/50\n",
      "1725/1725 [==============================] - 37s 21ms/step - loss: 0.5395 - val_loss: 0.3987\n",
      "Epoch 45/50\n",
      "1725/1725 [==============================] - 36s 21ms/step - loss: 0.5378 - val_loss: 0.4149\n",
      "Epoch 46/50\n",
      "1725/1725 [==============================] - 37s 21ms/step - loss: 0.5414 - val_loss: 0.3975\n",
      "Epoch 47/50\n",
      "1725/1725 [==============================] - 37s 21ms/step - loss: 0.5371 - val_loss: 0.4118\n",
      "Epoch 48/50\n",
      "1725/1725 [==============================] - 36s 21ms/step - loss: 0.5383 - val_loss: 0.4050\n",
      "Epoch 49/50\n",
      "1725/1725 [==============================] - 37s 21ms/step - loss: 0.5446 - val_loss: 0.4036\n",
      "Epoch 50/50\n",
      "1725/1725 [==============================] - 37s 21ms/step - loss: 0.5446 - val_loss: 0.4183\n"
     ]
    },
    {
     "data": {
      "text/plain": [
       "<keras.callbacks.History at 0x2569849dd30>"
      ]
     },
     "execution_count": 80,
     "metadata": {},
     "output_type": "execute_result"
    }
   ],
   "source": [
    "#Training \n",
    "model_FCC.fit(np.array(X_train), cat_y_train,epochs=50,verbose=1,validation_split=0.1)"
   ]
  },
  {
   "cell_type": "code",
   "execution_count": 81,
   "id": "005252c4",
   "metadata": {},
   "outputs": [
    {
     "data": {
      "text/plain": [
       "<tensorflow.lite.python.lite.TFLiteKerasModelConverterV2 at 0x2569cc4c0a0>"
      ]
     },
     "execution_count": 81,
     "metadata": {},
     "output_type": "execute_result"
    }
   ],
   "source": [
    "#model_FCC.save_weights(\"Model_fcc\")\n",
    "tf.lite.TFLiteConverter.from_keras_model('Model_fcc')"
   ]
  },
  {
   "cell_type": "code",
   "execution_count": 82,
   "id": "21565513",
   "metadata": {},
   "outputs": [
    {
     "data": {
      "text/plain": [
       "(61313, 2)"
      ]
     },
     "execution_count": 82,
     "metadata": {},
     "output_type": "execute_result"
    }
   ],
   "source": [
    "cat_y_train.shape"
   ]
  },
  {
   "cell_type": "code",
   "execution_count": 83,
   "id": "08ed91db",
   "metadata": {},
   "outputs": [
    {
     "data": {
      "text/plain": [
       "array([[ 0.08448137, -0.01177107,  0.03188488, ..., -0.08791678,\n",
       "        -0.08950969, -0.02790179],\n",
       "       [-0.14746094, -0.125     ,  0.0369873 , ...,  0.02416992,\n",
       "        -0.18603516,  0.02075195],\n",
       "       [-0.00447736,  0.02297102, -0.0136588 , ..., -0.01266153,\n",
       "        -0.01576887,  0.00619943],\n",
       "       ...,\n",
       "       [ 0.05464935,  0.02627945,  0.03396606, ...,  0.01324463,\n",
       "        -0.00998211, -0.01982117],\n",
       "       [ 0.0917867 , -0.02563477,  0.0281016 , ...,  0.01655579,\n",
       "         0.05240886, -0.07787577],\n",
       "       [ 0.0625    ,  0.05700684,  0.04840596, ..., -0.0278422 ,\n",
       "        -0.02423477,  0.04622396]], dtype=float32)"
      ]
     },
     "execution_count": 83,
     "metadata": {},
     "output_type": "execute_result"
    }
   ],
   "source": [
    "np.array(temp)"
   ]
  },
  {
   "cell_type": "code",
   "execution_count": 84,
   "id": "4c78a337",
   "metadata": {},
   "outputs": [],
   "source": [
    "#Setting up the shapes and types\n",
    "temp_test = []\n",
    "for i in range(len(X_test)):\n",
    "    temp_test.append(X_test.iloc[i])"
   ]
  },
  {
   "cell_type": "code",
   "execution_count": 85,
   "id": "0ac7dc7e",
   "metadata": {},
   "outputs": [
    {
     "name": "stdout",
     "output_type": "stream",
     "text": [
      "Accuracy FCC + Word2Vec:  0.8356953642384106\n"
     ]
    }
   ],
   "source": [
    "#Setting up data for prediction\n",
    "preds = model_FCC.predict(np.array(temp_test))\n",
    "predictions = []\n",
    "for i in range (preds.shape[0]):\n",
    "    predictions.append(np.argmax(preds[i]))\n",
    "print(\"Accuracy FCC + Word2Vec: \",np.sum(predictions == encoded_y_test)/float(len(predictions)))"
   ]
  },
  {
   "cell_type": "code",
   "execution_count": 86,
   "id": "692cbd01",
   "metadata": {},
   "outputs": [],
   "source": [
    "import numpy as np\n",
    "from sklearn import metrics\n",
    "def roc_curve2(y,scores,pos):\n",
    "    fpr, tpr, thresholds = metrics.roc_curve(y, scores, pos_label=pos)\n",
    "    fpr\n",
    "\n",
    "    tpr\n",
    "\n",
    "    thresholds\n",
    "\n",
    "    from sklearn.metrics import roc_curve, auc\n",
    "    # Compute ROC curve and ROC area for each class\n",
    "    fpr = dict()\n",
    "    tpr = dict()\n",
    "    roc_auc = dict()\n",
    "    # for i in range(4):\n",
    "    fpr[i], tpr[i], _ = roc_curve(y, scores,pos_label=pos)\n",
    "    roc_auc[i] = auc(fpr[i], tpr[i])\n",
    "\n",
    "    # Compute micro-average ROC curve and ROC area\n",
    "    fpr[\"micro\"], tpr[\"micro\"], _ = roc_curve(y.ravel(), scores.ravel(),pos_label=pos)\n",
    "    roc_auc[\"micro\"] = auc(fpr[\"micro\"], tpr[\"micro\"])\n",
    "    from matplotlib import pyplot as plt\n",
    "    plt.figure()\n",
    "    lw = 2\n",
    "    plt.plot(fpr[30199], tpr[30199], color='darkorange',\n",
    "             lw=lw, label='ROC curve (area = %0.2f)' % roc_auc[30199])\n",
    "    plt.plot([0, 1], [0, 1], color='navy', lw=lw, linestyle='--')\n",
    "    plt.xlim([0.0, 1.0])\n",
    "    plt.ylim([0.0, 1.05])\n",
    "    plt.xlabel('False Positive Rate')\n",
    "    plt.ylabel('True Positive Rate')\n",
    "    plt.title('Receiver operating characteristic example')\n",
    "    plt.legend(loc=\"lower right\")\n",
    "    plt.show()"
   ]
  },
  {
   "cell_type": "code",
   "execution_count": 87,
   "id": "f45fec4f",
   "metadata": {},
   "outputs": [
    {
     "data": {
      "image/png": "[encoded data removed]",
      "text/plain": [
       "<Figure size 432x288 with 1 Axes>"
      ]
     },
     "metadata": {
      "needs_background": "light"
     },
     "output_type": "display_data"
    }
   ],
   "source": [
    "roc_curve2(np.array(encoded_y_test),np.array(predictions),1)"
   ]
  },
  {
   "cell_type": "markdown",
   "id": "e8ef8569",
   "metadata": {},
   "source": [
    "# Sentiment Analysis"
   ]
  },
  {
   "cell_type": "code",
   "execution_count": 88,
   "id": "e944d8aa",
   "metadata": {},
   "outputs": [
    {
     "name": "stdout",
     "output_type": "stream",
     "text": [
      "{'fear': 0.0, 'anger': 0.0, 'anticip': 0.0, 'trust': 0.14285714285714285, 'surprise': 0.14285714285714285, 'positive': 0.14285714285714285, 'negative': 0.14285714285714285, 'sadness': 0.0, 'disgust': 0.14285714285714285, 'joy': 0.14285714285714285, 'anticipation': 0.14285714285714285}\n"
     ]
    }
   ],
   "source": [
    "from nrclex import NRCLex\n",
    "cols = NRCLex(\"boy is good\").affect_frequencies\n",
    "print (cols)"
   ]
  },
  {
   "cell_type": "code",
   "execution_count": 89,
   "id": "076f2e3f",
   "metadata": {},
   "outputs": [],
   "source": [
    "affin = open(\"./AFINN-111.txt\").read().split(\"\\n\")\n",
    "from collections import defaultdict\n",
    "affin_dict = defaultdict(lambda: 0)\n",
    "for i in affin:\n",
    "    temp = i.split(\"\\t\")\n",
    "    affin_dict[temp[0]] = temp[1]"
   ]
  },
  {
   "cell_type": "code",
   "execution_count": 90,
   "id": "4a2928e8",
   "metadata": {},
   "outputs": [
    {
     "name": "stdout",
     "output_type": "stream",
     "text": [
      "Affin Sentiment Score Average:  -1.3333333333333333\n"
     ]
    },
    {
     "data": {
      "text/plain": [
       "-1.3333333333333333"
      ]
     },
     "execution_count": 90,
     "metadata": {},
     "output_type": "execute_result"
    }
   ],
   "source": [
    "def calculate_affin(review,affin_dict):\n",
    "    temp = 0\n",
    "    t = review.split()\n",
    "    for i in t:\n",
    "#         print(i,temp)      \n",
    "        temp += int(affin_dict[i])\n",
    "    print(\"Affin Sentiment Score Average: \",float(temp)/len(t))\n",
    "    \n",
    "    return float(temp)/len(t)\n",
    "    \n",
    "calculate_affin(\"lets not fuck\",affin_dict)"
   ]
  },
  {
   "cell_type": "code",
   "execution_count": 91,
   "id": "8a142205",
   "metadata": {},
   "outputs": [],
   "source": [
    "#Input the string, outputs the label with confidence intervals along with NRC sentiment\n",
    "def tester(string):\n",
    "    string = remove_stopwords(re.sub('['+punc+']' ,'',string).lower(), stoplist)\n",
    "    cols = NRCLex(string).affect_frequencies\n",
    "    print (pd.DataFrame.from_dict(cols, orient='index',columns=['Score']))\n",
    "    affin_score = calculate_affin(string,affin_dict)\n",
    "    temp = sentence_vec(string,model_W2V)\n",
    "    label = model_FCC.predict(temp.reshape(1,-1))\n",
    "    \n",
    "    print(\"The confidence intervals for both labels: \",label)\n",
    "    if label[0][0] < label[0][1]:\n",
    "        if cols[\"positive\"] >= 0.0 and cols[\"negative\"] == 0.0 and affin_score > 0:\n",
    "            print(\"The label of the tested case is Non Abusive/Non-Harassive with negativity equals zero.\") \n",
    "            \n",
    "        else: \n",
    "            print(\"The label of the tested case is Abusive/Harassive with {} confidence interval.\\n\".format(label[0][1]))\n",
    "        \n",
    "    else:\n",
    "        print(\"The label of the tested case is Non Abusive/Non Harassive with {} confidence interval.\".format(label[0][0]))"
   ]
  },
  {
   "cell_type": "markdown",
   "id": "3da897b6",
   "metadata": {},
   "source": [
    "# Code Testing"
   ]
  },
  {
   "cell_type": "code",
   "execution_count": 92,
   "id": "8e9b7021",
   "metadata": {},
   "outputs": [
    {
     "name": "stdout",
     "output_type": "stream",
     "text": [
      "          Score\n",
      "fear        0.0\n",
      "anger       0.0\n",
      "anticip     0.0\n",
      "trust       0.0\n",
      "surprise    0.0\n",
      "positive    0.0\n",
      "negative    0.0\n",
      "sadness     0.0\n",
      "disgust     0.0\n",
      "joy         0.0\n",
      "Affin Sentiment Score Average:  0.0\n",
      "The confidence intervals for both labels:  [[0.7248268 0.2751731]]\n",
      "The label of the tested case is Non Abusive/Non Harassive with 0.7248268127441406 confidence interval.\n"
     ]
    }
   ],
   "source": [
    "tester(\"dont tell your parents\")"
   ]
  },
  {
   "cell_type": "code",
   "execution_count": 93,
   "id": "647153f0",
   "metadata": {},
   "outputs": [
    {
     "name": "stdout",
     "output_type": "stream",
     "text": [
      "             Score\n",
      "fear      0.333333\n",
      "anger     0.000000\n",
      "anticip   0.000000\n",
      "trust     0.000000\n",
      "surprise  0.000000\n",
      "positive  0.000000\n",
      "negative  0.333333\n",
      "sadness   0.333333\n",
      "disgust   0.000000\n",
      "joy       0.000000\n",
      "Affin Sentiment Score Average:  0.0\n",
      "The confidence intervals for both labels:  [[0.15130429 0.84869564]]\n",
      "The label of the tested case is Abusive/Harassive with 0.8486956357955933 confidence interval.\n",
      "\n"
     ]
    }
   ],
   "source": [
    "tester(\"I wanna take you to party\")"
   ]
  },
  {
   "cell_type": "code",
   "execution_count": 94,
   "id": "bb0d4f26",
   "metadata": {},
   "outputs": [
    {
     "name": "stdout",
     "output_type": "stream",
     "text": [
      "          Score\n",
      "fear        0.0\n",
      "anger       0.0\n",
      "anticip     0.0\n",
      "trust       0.0\n",
      "surprise    0.0\n",
      "positive    0.0\n",
      "negative    0.0\n",
      "sadness     0.0\n",
      "disgust     0.0\n",
      "joy         0.0\n",
      "Affin Sentiment Score Average:  0.0\n",
      "The confidence intervals for both labels:  [[0.17994562 0.8200544 ]]\n",
      "The label of the tested case is Abusive/Harassive with 0.8200544118881226 confidence interval.\n",
      "\n"
     ]
    }
   ],
   "source": [
    "tester(\"lets play\")"
   ]
  },
  {
   "cell_type": "code",
   "execution_count": 95,
   "id": "88e4546e",
   "metadata": {},
   "outputs": [
    {
     "name": "stdout",
     "output_type": "stream",
     "text": [
      "          Score\n",
      "fear        0.0\n",
      "anger       0.0\n",
      "anticip     0.0\n",
      "trust       0.0\n",
      "surprise    0.0\n",
      "positive    0.0\n",
      "negative    0.0\n",
      "sadness     0.0\n",
      "disgust     0.0\n",
      "joy         0.0\n",
      "Affin Sentiment Score Average:  -2.0\n",
      "The confidence intervals for both labels:  [[0.00177826 0.9982217 ]]\n",
      "The label of the tested case is Abusive/Harassive with 0.9982216954231262 confidence interval.\n",
      "\n"
     ]
    }
   ],
   "source": [
    "tester(\"lets fuck\")"
   ]
  },
  {
   "cell_type": "code",
   "execution_count": 96,
   "id": "5c7f8f18",
   "metadata": {},
   "outputs": [
    {
     "name": "stdout",
     "output_type": "stream",
     "text": [
      "             Score\n",
      "fear      0.333333\n",
      "anger     0.000000\n",
      "anticip   0.000000\n",
      "trust     0.000000\n",
      "surprise  0.000000\n",
      "positive  0.000000\n",
      "negative  0.333333\n",
      "sadness   0.333333\n",
      "disgust   0.000000\n",
      "joy       0.000000\n",
      "Affin Sentiment Score Average:  0.0\n",
      "The confidence intervals for both labels:  [[0.01257802 0.987422  ]]\n",
      "The label of the tested case is Abusive/Harassive with 0.987421989440918 confidence interval.\n",
      "\n"
     ]
    }
   ],
   "source": [
    "tester(\"hey kid wanna have some candy?\")"
   ]
  },
  {
   "cell_type": "code",
   "execution_count": 97,
   "id": "e62986a9",
   "metadata": {},
   "outputs": [
    {
     "name": "stdout",
     "output_type": "stream",
     "text": [
      "          Score\n",
      "fear        0.0\n",
      "anger       0.0\n",
      "anticip     0.0\n",
      "trust       0.0\n",
      "surprise    0.0\n",
      "positive    0.0\n",
      "negative    0.0\n",
      "sadness     0.0\n",
      "disgust     0.0\n",
      "joy         0.0\n",
      "Affin Sentiment Score Average:  0.0\n",
      "The confidence intervals for both labels:  [[0.03778158 0.96221846]]\n",
      "The label of the tested case is Abusive/Harassive with 0.9622184634208679 confidence interval.\n",
      "\n"
     ]
    }
   ],
   "source": [
    "tester(\"send me your nude pics\")"
   ]
  },
  {
   "cell_type": "code",
   "execution_count": 98,
   "id": "8f20eb4f",
   "metadata": {},
   "outputs": [
    {
     "name": "stdout",
     "output_type": "stream",
     "text": [
      "          Score\n",
      "fear        0.0\n",
      "anger       0.0\n",
      "anticip     0.0\n",
      "trust       0.0\n",
      "surprise    0.0\n",
      "positive    0.0\n",
      "negative    0.0\n",
      "sadness     0.0\n",
      "disgust     0.0\n",
      "joy         0.0\n",
      "Affin Sentiment Score Average:  0.0\n",
      "The confidence intervals for both labels:  [[0.036536   0.96346396]]\n",
      "The label of the tested case is Abusive/Harassive with 0.9634639620780945 confidence interval.\n",
      "\n"
     ]
    }
   ],
   "source": [
    "tester(\"send me your pics\")"
   ]
  },
  {
   "cell_type": "code",
   "execution_count": 99,
   "id": "bb544b12",
   "metadata": {},
   "outputs": [
    {
     "name": "stdout",
     "output_type": "stream",
     "text": [
      "                 Score\n",
      "fear          0.000000\n",
      "anger         0.000000\n",
      "anticip       0.000000\n",
      "trust         0.166667\n",
      "surprise      0.166667\n",
      "positive      0.166667\n",
      "negative      0.000000\n",
      "sadness       0.166667\n",
      "disgust       0.000000\n",
      "joy           0.166667\n",
      "anticipation  0.166667\n",
      "Affin Sentiment Score Average:  1.5\n",
      "The confidence intervals for both labels:  [[0.04841033 0.95158964]]\n",
      "The label of the tested case is Non Abusive/Non-Harassive with negativity equals zero.\n"
     ]
    }
   ],
   "source": [
    "tester(\"lovely how played\")"
   ]
  },
  {
   "cell_type": "code",
   "execution_count": 100,
   "id": "26cc3d68",
   "metadata": {},
   "outputs": [
    {
     "name": "stdout",
     "output_type": "stream",
     "text": [
      "                 Score\n",
      "fear          0.000000\n",
      "anger         0.000000\n",
      "anticip       0.000000\n",
      "trust         0.142857\n",
      "surprise      0.142857\n",
      "positive      0.142857\n",
      "negative      0.142857\n",
      "sadness       0.000000\n",
      "disgust       0.142857\n",
      "joy           0.142857\n",
      "anticipation  0.142857\n",
      "Affin Sentiment Score Average:  1.5\n",
      "The confidence intervals for both labels:  [[0.4138948 0.5861052]]\n",
      "The label of the tested case is Abusive/Harassive with 0.586105227470398 confidence interval.\n",
      "\n"
     ]
    }
   ],
   "source": [
    "tester(\"boy is good\")"
   ]
  },
  {
   "cell_type": "code",
   "execution_count": 101,
   "id": "0e01b87d",
   "metadata": {},
   "outputs": [
    {
     "name": "stdout",
     "output_type": "stream",
     "text": [
      "          Score\n",
      "fear        0.0\n",
      "anger       0.0\n",
      "anticip     0.0\n",
      "trust       0.0\n",
      "surprise    0.0\n",
      "positive    0.0\n",
      "negative    0.0\n",
      "sadness     0.0\n",
      "disgust     0.0\n",
      "joy         0.0\n",
      "Affin Sentiment Score Average:  0.0\n",
      "The confidence intervals for both labels:  [[0.28420568 0.71579427]]\n",
      "The label of the tested case is Abusive/Harassive with 0.7157942652702332 confidence interval.\n",
      "\n"
     ]
    }
   ],
   "source": [
    "tester(\"lets go to play cricket\")"
   ]
  },
  {
   "cell_type": "code",
   "execution_count": 102,
   "id": "d12d1ac3",
   "metadata": {},
   "outputs": [
    {
     "name": "stdout",
     "output_type": "stream",
     "text": [
      "          Score\n",
      "fear        0.0\n",
      "anger       0.0\n",
      "anticip     0.0\n",
      "trust       0.0\n",
      "surprise    0.0\n",
      "positive    0.0\n",
      "negative    0.0\n",
      "sadness     0.0\n",
      "disgust     0.0\n",
      "joy         0.0\n",
      "Affin Sentiment Score Average:  0.0\n",
      "The confidence intervals for both labels:  [[0.97745675 0.02254323]]\n",
      "The label of the tested case is Non Abusive/Non Harassive with 0.9774567484855652 confidence interval.\n"
     ]
    }
   ],
   "source": [
    "tester(\"Hows is the weather in London\")"
   ]
  },
  {
   "cell_type": "markdown",
   "id": "7382c415",
   "metadata": {},
   "source": [
    "# Twitter Extraction and Main"
   ]
  },
  {
   "cell_type": "code",
   "execution_count": 103,
   "id": "921846db",
   "metadata": {},
   "outputs": [],
   "source": [
    "import tweepy\n",
    "import pandas as pd\n",
    "import csv\n",
    "import re \n",
    "import string\n",
    "import preprocessor as p\n",
    "\n",
    "consumer_key = \"MGPtUcPrVfaWLu7TxjCwtFHuM\"\n",
    "consumer_secret = \"gMOqFjaPgfs30cTSZKgdRlv7Y9Ag84Ld8cM1ORKH1bx4hEbUIZ\"\n",
    "access_key= \"1398329578754555914-TkmRlKKhJDgNZLtQ72rzaOzb9n0vGr\"\n",
    "access_secret = \"kliKIuqMthnddviZbDyrKFzN3RvwoWGg9mkxqJOByV7vC\"\n",
    "\n",
    "auth = tweepy.OAuthHandler(consumer_key, consumer_secret)\n",
    "auth.set_access_token(access_key, access_secret)\n",
    "\n",
    "api = tweepy.API(auth,wait_on_rate_limit=True)\n",
    "\n",
    "def get_tweets(username): \n",
    "          \n",
    "        # Authorization to consumer key and consumer secret \n",
    "        auth = tweepy.OAuthHandler(consumer_key, consumer_secret) \n",
    "\n",
    "        # Access to user's access key and access secret \n",
    "        auth.set_access_token(access_key, access_secret) \n",
    "  \n",
    "        # Calling api \n",
    "        api = tweepy.API(auth) \n",
    "  \n",
    "        # no. of tweets to be extracted \n",
    "        number_of_tweets = 5\n",
    "    \n",
    "        tweets = []\n",
    "\n",
    "        print(\"Retriving tweets for twitter handle: \", username)\n",
    "\n",
    "        for status in tweepy.Cursor(api.user_timeline, screen_name=username, tweet_mode=\"extended\").items(number_of_tweets):\n",
    "            tweets.append(status)\n",
    "\n",
    "        tweet_texts = [tweet.full_text for tweet in tweets]\n",
    "        favorite_counts = [tweet.favorite_count for tweet in tweets]\n",
    "        retweet_counts = [tweet.retweet_count for tweet in tweets]\n",
    "        created_dates = [tweet.created_at for tweet in tweets]\n",
    "\n",
    "        df = pd.DataFrame({'twitter_handle': username,\n",
    "                   'created_date': created_dates,\n",
    "                   'tweet_text': tweet_texts})\n",
    "        \n",
    "        print(df)\n",
    "        \n",
    "        return tweet_texts"
   ]
  },
  {
   "cell_type": "code",
   "execution_count": 111,
   "id": "cfb4c042",
   "metadata": {},
   "outputs": [
    {
     "name": "stdout",
     "output_type": "stream",
     "text": [
      "Enter the username: BluBlu12501166\n",
      "Retriving tweets for twitter handle:  BluBlu12501166\n",
      "   twitter_handle        created_date                             tweet_text\n",
      "0  BluBlu12501166 2021-09-03 19:55:14  Lovely to see Arsenal play like this.\n",
      "1  BluBlu12501166 2021-09-03 19:52:43               How's the weather today?\n",
      "2  BluBlu12501166 2021-09-03 19:51:06               This kid got a nice bum.\n",
      "Tweet #  1\n",
      "Tweet Text:  Lovely to see Arsenal play like this.\n",
      "                 Score\n",
      "fear          0.000000\n",
      "anger         0.000000\n",
      "anticip       0.000000\n",
      "trust         0.166667\n",
      "surprise      0.166667\n",
      "positive      0.166667\n",
      "negative      0.000000\n",
      "sadness       0.166667\n",
      "disgust       0.000000\n",
      "joy           0.166667\n",
      "anticipation  0.166667\n",
      "Affin Sentiment Score Average:  1.0\n",
      "The confidence intervals for both labels:  [[0.0097107  0.99028933]]\n",
      "The label of the tested case is Non Abusive/Non-Harassive with negativity equals zero.\n",
      "Tweet #  2\n",
      "Tweet Text:  How's the weather today?\n",
      "          Score\n",
      "fear        0.0\n",
      "anger       0.0\n",
      "anticip     0.0\n",
      "trust       0.0\n",
      "surprise    0.0\n",
      "positive    0.0\n",
      "negative    0.0\n",
      "sadness     0.0\n",
      "disgust     0.0\n",
      "joy         0.0\n",
      "Affin Sentiment Score Average:  0.0\n",
      "The confidence intervals for both labels:  [[0.98360735 0.01639262]]\n",
      "The label of the tested case is Non Abusive/Non Harassive with 0.9836073517799377 confidence interval.\n",
      "Tweet #  3\n",
      "Tweet Text:  This kid got a nice bum.\n",
      "             Score\n",
      "fear      0.000000\n",
      "anger     0.000000\n",
      "anticip   0.000000\n",
      "trust     0.000000\n",
      "surprise  0.000000\n",
      "positive  0.000000\n",
      "negative  0.333333\n",
      "sadness   0.333333\n",
      "disgust   0.333333\n",
      "joy       0.000000\n",
      "Affin Sentiment Score Average:  0.75\n",
      "The confidence intervals for both labels:  [[0.01406474 0.9859352 ]]\n",
      "The label of the tested case is Abusive/Harassive with 0.9859352111816406 confidence interval.\n",
      "\n"
     ]
    }
   ],
   "source": [
    "tweets = get_tweets(input(\"Enter the username: \"))\n",
    "\n",
    "counter = 1\n",
    "for tweet in tweets:\n",
    "    print(\"Tweet # \",counter)\n",
    "    print(\"Tweet Text: \",tweet)\n",
    "    tester(str(tweet))\n",
    "    counter +=1 "
   ]
  },
  {
   "cell_type": "code",
   "execution_count": null,
   "id": "a8ab3ebb",
   "metadata": {},
   "outputs": [],
   "source": []
  }
 ],
 "metadata": {
  "kernelspec": {
   "display_name": "Python 3",
   "language": "python",
   "name": "python3"
  },
  "language_info": {
   "codemirror_mode": {
    "name": "ipython",
    "version": 3
   },
   "file_extension": ".py",
   "mimetype": "text/x-python",
   "name": "python",
   "nbconvert_exporter": "python",
   "pygments_lexer": "ipython3",
   "version": "3.8.8"
  }
 },
 "nbformat": 4,
 "nbformat_minor": 5
}
